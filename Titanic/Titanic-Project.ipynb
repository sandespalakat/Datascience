{
 "cells": [
  {
   "cell_type": "markdown",
   "metadata": {},
   "source": [
    "# Titanic"
   ]
  },
  {
   "cell_type": "raw",
   "metadata": {},
   "source": [
    "Problem Statement:\n",
    "The Titanic Problem is based on the sinking of the ‘Unsinkable’ ship Titanic in early 1912. It gives you information about multiple people like their ages, sexes, sibling counts, embarkment points, and whether or not they survived the disaster. Based on these features, you have to predict if an arbitrary passenger on Titanic would survive the sinking or not. \n",
    "Type = Classification\n",
    "Data = https://raw.githubusercontent.com/sandespalakat/Datascience/main/Titanic/Data/titanic.csv"
   ]
  },
  {
   "cell_type": "code",
   "execution_count": 91,
   "metadata": {},
   "outputs": [],
   "source": [
    "#importing libraries\n",
    "import numpy as np\n",
    "import pandas as pd\n",
    "import matplotlib.pyplot as plt\n",
    "import seaborn as sns\n",
    "import warnings\n",
    "from sklearn.linear_model import LogisticRegression\n",
    "from sklearn.metrics import accuracy_score\n",
    "from sklearn.svm import SVC\n",
    "from sklearn.neighbors import KNeighborsClassifier\n",
    "from sklearn.naive_bayes import GaussianNB\n",
    "from sklearn.ensemble import RandomForestClassifier\n",
    "from sklearn.model_selection import train_test_split\n",
    "warnings.filterwarnings(\"ignore\")"
   ]
  },
  {
   "cell_type": "code",
   "execution_count": 92,
   "metadata": {},
   "outputs": [],
   "source": [
    "data = pd.read_csv(\"https://raw.githubusercontent.com/sandespalakat/Datascience/main/Titanic/Data/titanic.csv\")"
   ]
  },
  {
   "cell_type": "code",
   "execution_count": 93,
   "metadata": {},
   "outputs": [
    {
     "data": {
      "text/html": [
       "<div>\n",
       "<style scoped>\n",
       "    .dataframe tbody tr th:only-of-type {\n",
       "        vertical-align: middle;\n",
       "    }\n",
       "\n",
       "    .dataframe tbody tr th {\n",
       "        vertical-align: top;\n",
       "    }\n",
       "\n",
       "    .dataframe thead th {\n",
       "        text-align: right;\n",
       "    }\n",
       "</style>\n",
       "<table border=\"1\" class=\"dataframe\">\n",
       "  <thead>\n",
       "    <tr style=\"text-align: right;\">\n",
       "      <th></th>\n",
       "      <th>PassengerId</th>\n",
       "      <th>Survived</th>\n",
       "      <th>Pclass</th>\n",
       "      <th>Name</th>\n",
       "      <th>Sex</th>\n",
       "      <th>Age</th>\n",
       "      <th>SibSp</th>\n",
       "      <th>Parch</th>\n",
       "      <th>Ticket</th>\n",
       "      <th>Fare</th>\n",
       "      <th>Cabin</th>\n",
       "      <th>Embarked</th>\n",
       "    </tr>\n",
       "  </thead>\n",
       "  <tbody>\n",
       "    <tr>\n",
       "      <th>0</th>\n",
       "      <td>1</td>\n",
       "      <td>0</td>\n",
       "      <td>3</td>\n",
       "      <td>Braund, Mr. Owen Harris</td>\n",
       "      <td>male</td>\n",
       "      <td>22.0</td>\n",
       "      <td>1</td>\n",
       "      <td>0</td>\n",
       "      <td>A/5 21171</td>\n",
       "      <td>7.2500</td>\n",
       "      <td>NaN</td>\n",
       "      <td>S</td>\n",
       "    </tr>\n",
       "    <tr>\n",
       "      <th>1</th>\n",
       "      <td>2</td>\n",
       "      <td>1</td>\n",
       "      <td>1</td>\n",
       "      <td>Cumings, Mrs. John Bradley (Florence Briggs Th...</td>\n",
       "      <td>female</td>\n",
       "      <td>38.0</td>\n",
       "      <td>1</td>\n",
       "      <td>0</td>\n",
       "      <td>PC 17599</td>\n",
       "      <td>71.2833</td>\n",
       "      <td>C85</td>\n",
       "      <td>C</td>\n",
       "    </tr>\n",
       "    <tr>\n",
       "      <th>2</th>\n",
       "      <td>3</td>\n",
       "      <td>1</td>\n",
       "      <td>3</td>\n",
       "      <td>Heikkinen, Miss. Laina</td>\n",
       "      <td>female</td>\n",
       "      <td>26.0</td>\n",
       "      <td>0</td>\n",
       "      <td>0</td>\n",
       "      <td>STON/O2. 3101282</td>\n",
       "      <td>7.9250</td>\n",
       "      <td>NaN</td>\n",
       "      <td>S</td>\n",
       "    </tr>\n",
       "    <tr>\n",
       "      <th>3</th>\n",
       "      <td>4</td>\n",
       "      <td>1</td>\n",
       "      <td>1</td>\n",
       "      <td>Futrelle, Mrs. Jacques Heath (Lily May Peel)</td>\n",
       "      <td>female</td>\n",
       "      <td>35.0</td>\n",
       "      <td>1</td>\n",
       "      <td>0</td>\n",
       "      <td>113803</td>\n",
       "      <td>53.1000</td>\n",
       "      <td>C123</td>\n",
       "      <td>S</td>\n",
       "    </tr>\n",
       "    <tr>\n",
       "      <th>4</th>\n",
       "      <td>5</td>\n",
       "      <td>0</td>\n",
       "      <td>3</td>\n",
       "      <td>Allen, Mr. William Henry</td>\n",
       "      <td>male</td>\n",
       "      <td>35.0</td>\n",
       "      <td>0</td>\n",
       "      <td>0</td>\n",
       "      <td>373450</td>\n",
       "      <td>8.0500</td>\n",
       "      <td>NaN</td>\n",
       "      <td>S</td>\n",
       "    </tr>\n",
       "    <tr>\n",
       "      <th>...</th>\n",
       "      <td>...</td>\n",
       "      <td>...</td>\n",
       "      <td>...</td>\n",
       "      <td>...</td>\n",
       "      <td>...</td>\n",
       "      <td>...</td>\n",
       "      <td>...</td>\n",
       "      <td>...</td>\n",
       "      <td>...</td>\n",
       "      <td>...</td>\n",
       "      <td>...</td>\n",
       "      <td>...</td>\n",
       "    </tr>\n",
       "    <tr>\n",
       "      <th>886</th>\n",
       "      <td>887</td>\n",
       "      <td>0</td>\n",
       "      <td>2</td>\n",
       "      <td>Montvila, Rev. Juozas</td>\n",
       "      <td>male</td>\n",
       "      <td>27.0</td>\n",
       "      <td>0</td>\n",
       "      <td>0</td>\n",
       "      <td>211536</td>\n",
       "      <td>13.0000</td>\n",
       "      <td>NaN</td>\n",
       "      <td>S</td>\n",
       "    </tr>\n",
       "    <tr>\n",
       "      <th>887</th>\n",
       "      <td>888</td>\n",
       "      <td>1</td>\n",
       "      <td>1</td>\n",
       "      <td>Graham, Miss. Margaret Edith</td>\n",
       "      <td>female</td>\n",
       "      <td>19.0</td>\n",
       "      <td>0</td>\n",
       "      <td>0</td>\n",
       "      <td>112053</td>\n",
       "      <td>30.0000</td>\n",
       "      <td>B42</td>\n",
       "      <td>S</td>\n",
       "    </tr>\n",
       "    <tr>\n",
       "      <th>888</th>\n",
       "      <td>889</td>\n",
       "      <td>0</td>\n",
       "      <td>3</td>\n",
       "      <td>Johnston, Miss. Catherine Helen \"Carrie\"</td>\n",
       "      <td>female</td>\n",
       "      <td>NaN</td>\n",
       "      <td>1</td>\n",
       "      <td>2</td>\n",
       "      <td>W./C. 6607</td>\n",
       "      <td>23.4500</td>\n",
       "      <td>NaN</td>\n",
       "      <td>S</td>\n",
       "    </tr>\n",
       "    <tr>\n",
       "      <th>889</th>\n",
       "      <td>890</td>\n",
       "      <td>1</td>\n",
       "      <td>1</td>\n",
       "      <td>Behr, Mr. Karl Howell</td>\n",
       "      <td>male</td>\n",
       "      <td>26.0</td>\n",
       "      <td>0</td>\n",
       "      <td>0</td>\n",
       "      <td>111369</td>\n",
       "      <td>30.0000</td>\n",
       "      <td>C148</td>\n",
       "      <td>C</td>\n",
       "    </tr>\n",
       "    <tr>\n",
       "      <th>890</th>\n",
       "      <td>891</td>\n",
       "      <td>0</td>\n",
       "      <td>3</td>\n",
       "      <td>Dooley, Mr. Patrick</td>\n",
       "      <td>male</td>\n",
       "      <td>32.0</td>\n",
       "      <td>0</td>\n",
       "      <td>0</td>\n",
       "      <td>370376</td>\n",
       "      <td>7.7500</td>\n",
       "      <td>NaN</td>\n",
       "      <td>Q</td>\n",
       "    </tr>\n",
       "  </tbody>\n",
       "</table>\n",
       "<p>891 rows × 12 columns</p>\n",
       "</div>"
      ],
      "text/plain": [
       "     PassengerId  Survived  Pclass  \\\n",
       "0              1         0       3   \n",
       "1              2         1       1   \n",
       "2              3         1       3   \n",
       "3              4         1       1   \n",
       "4              5         0       3   \n",
       "..           ...       ...     ...   \n",
       "886          887         0       2   \n",
       "887          888         1       1   \n",
       "888          889         0       3   \n",
       "889          890         1       1   \n",
       "890          891         0       3   \n",
       "\n",
       "                                                  Name     Sex   Age  SibSp  \\\n",
       "0                              Braund, Mr. Owen Harris    male  22.0      1   \n",
       "1    Cumings, Mrs. John Bradley (Florence Briggs Th...  female  38.0      1   \n",
       "2                               Heikkinen, Miss. Laina  female  26.0      0   \n",
       "3         Futrelle, Mrs. Jacques Heath (Lily May Peel)  female  35.0      1   \n",
       "4                             Allen, Mr. William Henry    male  35.0      0   \n",
       "..                                                 ...     ...   ...    ...   \n",
       "886                              Montvila, Rev. Juozas    male  27.0      0   \n",
       "887                       Graham, Miss. Margaret Edith  female  19.0      0   \n",
       "888           Johnston, Miss. Catherine Helen \"Carrie\"  female   NaN      1   \n",
       "889                              Behr, Mr. Karl Howell    male  26.0      0   \n",
       "890                                Dooley, Mr. Patrick    male  32.0      0   \n",
       "\n",
       "     Parch            Ticket     Fare Cabin Embarked  \n",
       "0        0         A/5 21171   7.2500   NaN        S  \n",
       "1        0          PC 17599  71.2833   C85        C  \n",
       "2        0  STON/O2. 3101282   7.9250   NaN        S  \n",
       "3        0            113803  53.1000  C123        S  \n",
       "4        0            373450   8.0500   NaN        S  \n",
       "..     ...               ...      ...   ...      ...  \n",
       "886      0            211536  13.0000   NaN        S  \n",
       "887      0            112053  30.0000   B42        S  \n",
       "888      2        W./C. 6607  23.4500   NaN        S  \n",
       "889      0            111369  30.0000  C148        C  \n",
       "890      0            370376   7.7500   NaN        Q  \n",
       "\n",
       "[891 rows x 12 columns]"
      ]
     },
     "execution_count": 93,
     "metadata": {},
     "output_type": "execute_result"
    }
   ],
   "source": [
    "data"
   ]
  },
  {
   "cell_type": "code",
   "execution_count": 94,
   "metadata": {},
   "outputs": [
    {
     "data": {
      "text/plain": [
       "PassengerId      int64\n",
       "Survived         int64\n",
       "Pclass           int64\n",
       "Name            object\n",
       "Sex             object\n",
       "Age            float64\n",
       "SibSp            int64\n",
       "Parch            int64\n",
       "Ticket          object\n",
       "Fare           float64\n",
       "Cabin           object\n",
       "Embarked        object\n",
       "dtype: object"
      ]
     },
     "execution_count": 94,
     "metadata": {},
     "output_type": "execute_result"
    }
   ],
   "source": [
    "data.dtypes"
   ]
  },
  {
   "cell_type": "code",
   "execution_count": 95,
   "metadata": {},
   "outputs": [],
   "source": [
    "#\"Survived\" is the dependant variable"
   ]
  },
  {
   "cell_type": "code",
   "execution_count": 96,
   "metadata": {},
   "outputs": [],
   "source": [
    "#since Name,PassengerId and Ticket are irrelevant to the survival, we can drop that columns"
   ]
  },
  {
   "cell_type": "code",
   "execution_count": 97,
   "metadata": {},
   "outputs": [],
   "source": [
    "data.drop([\"Name\", \"Ticket\",\"PassengerId\"], axis=1, inplace=True)"
   ]
  },
  {
   "cell_type": "code",
   "execution_count": 98,
   "metadata": {},
   "outputs": [],
   "source": [
    "data = pd.DataFrame(data)"
   ]
  },
  {
   "cell_type": "code",
   "execution_count": 99,
   "metadata": {},
   "outputs": [
    {
     "data": {
      "text/plain": [
       "<matplotlib.axes._subplots.AxesSubplot at 0x232874a3eb0>"
      ]
     },
     "execution_count": 99,
     "metadata": {},
     "output_type": "execute_result"
    },
    {
     "data": {
      "image/png": "[encoded data removed]",
      "text/plain": [
       "<Figure size 432x288 with 1 Axes>"
      ]
     },
     "metadata": {
      "needs_background": "light"
     },
     "output_type": "display_data"
    }
   ],
   "source": [
    "sns.boxplot(data[\"Age\"], orient=\"v\")"
   ]
  },
  {
   "cell_type": "code",
   "execution_count": 100,
   "metadata": {},
   "outputs": [
    {
     "data": {
      "text/plain": [
       "<matplotlib.axes._subplots.AxesSubplot at 0x23287eb63d0>"
      ]
     },
     "execution_count": 100,
     "metadata": {},
     "output_type": "execute_result"
    },
    {
     "data": {
      "image/png": "[encoded data removed]",
      "text/plain": [
       "<Figure size 432x288 with 2 Axes>"
      ]
     },
     "metadata": {
      "needs_background": "light"
     },
     "output_type": "display_data"
    }
   ],
   "source": [
    "sns.heatmap(data.isnull())"
   ]
  },
  {
   "cell_type": "code",
   "execution_count": 101,
   "metadata": {},
   "outputs": [
    {
     "data": {
      "text/plain": [
       "Survived      0\n",
       "Pclass        0\n",
       "Sex           0\n",
       "Age         177\n",
       "SibSp         0\n",
       "Parch         0\n",
       "Fare          0\n",
       "Cabin       687\n",
       "Embarked      2\n",
       "dtype: int64"
      ]
     },
     "execution_count": 101,
     "metadata": {},
     "output_type": "execute_result"
    }
   ],
   "source": [
    "data.isnull().sum()"
   ]
  },
  {
   "cell_type": "code",
   "execution_count": 102,
   "metadata": {},
   "outputs": [
    {
     "data": {
      "text/plain": [
       "(891, 9)"
      ]
     },
     "execution_count": 102,
     "metadata": {},
     "output_type": "execute_result"
    }
   ],
   "source": [
    "data.shape"
   ]
  },
  {
   "cell_type": "raw",
   "metadata": {},
   "source": [
    "around 20% of age data is missing\n",
    "77% of Cabin data is missing\n",
    "only 2 null values in embarked column"
   ]
  },
  {
   "cell_type": "raw",
   "metadata": {},
   "source": [
    "We can fill the null values in age column with median value since the number of null values are very large"
   ]
  },
  {
   "cell_type": "code",
   "execution_count": 103,
   "metadata": {},
   "outputs": [],
   "source": [
    "data[\"Age\"].fillna(data[\"Age\"].median(), inplace=True)"
   ]
  },
  {
   "cell_type": "raw",
   "metadata": {},
   "source": [
    "Replacing the mod value in Cabin column will not be a good idea because of large no. of null values"
   ]
  },
  {
   "cell_type": "code",
   "execution_count": 104,
   "metadata": {},
   "outputs": [],
   "source": [
    "data.drop([\"Cabin\"], axis=1, inplace=True)"
   ]
  },
  {
   "cell_type": "raw",
   "metadata": {},
   "source": [
    "Null values in embarked column can be replaced with mode"
   ]
  },
  {
   "cell_type": "code",
   "execution_count": 105,
   "metadata": {},
   "outputs": [],
   "source": [
    "data[\"Embarked\"].fillna(data[\"Embarked\"].mode, inplace=True)"
   ]
  },
  {
   "cell_type": "code",
   "execution_count": 106,
   "metadata": {},
   "outputs": [
    {
     "data": {
      "text/plain": [
       "Survived    0\n",
       "Pclass      0\n",
       "Sex         0\n",
       "Age         0\n",
       "SibSp       0\n",
       "Parch       0\n",
       "Fare        0\n",
       "Embarked    0\n",
       "dtype: int64"
      ]
     },
     "execution_count": 106,
     "metadata": {},
     "output_type": "execute_result"
    }
   ],
   "source": [
    "data.isnull().sum()"
   ]
  },
  {
   "cell_type": "code",
   "execution_count": 107,
   "metadata": {},
   "outputs": [
    {
     "data": {
      "text/html": [
       "<div>\n",
       "<style scoped>\n",
       "    .dataframe tbody tr th:only-of-type {\n",
       "        vertical-align: middle;\n",
       "    }\n",
       "\n",
       "    .dataframe tbody tr th {\n",
       "        vertical-align: top;\n",
       "    }\n",
       "\n",
       "    .dataframe thead th {\n",
       "        text-align: right;\n",
       "    }\n",
       "</style>\n",
       "<table border=\"1\" class=\"dataframe\">\n",
       "  <thead>\n",
       "    <tr style=\"text-align: right;\">\n",
       "      <th></th>\n",
       "      <th>Survived</th>\n",
       "      <th>Pclass</th>\n",
       "      <th>Sex</th>\n",
       "      <th>Age</th>\n",
       "      <th>SibSp</th>\n",
       "      <th>Parch</th>\n",
       "      <th>Fare</th>\n",
       "      <th>Embarked</th>\n",
       "    </tr>\n",
       "  </thead>\n",
       "  <tbody>\n",
       "    <tr>\n",
       "      <th>0</th>\n",
       "      <td>0</td>\n",
       "      <td>3</td>\n",
       "      <td>male</td>\n",
       "      <td>22.0</td>\n",
       "      <td>1</td>\n",
       "      <td>0</td>\n",
       "      <td>7.2500</td>\n",
       "      <td>S</td>\n",
       "    </tr>\n",
       "    <tr>\n",
       "      <th>1</th>\n",
       "      <td>1</td>\n",
       "      <td>1</td>\n",
       "      <td>female</td>\n",
       "      <td>38.0</td>\n",
       "      <td>1</td>\n",
       "      <td>0</td>\n",
       "      <td>71.2833</td>\n",
       "      <td>C</td>\n",
       "    </tr>\n",
       "    <tr>\n",
       "      <th>2</th>\n",
       "      <td>1</td>\n",
       "      <td>3</td>\n",
       "      <td>female</td>\n",
       "      <td>26.0</td>\n",
       "      <td>0</td>\n",
       "      <td>0</td>\n",
       "      <td>7.9250</td>\n",
       "      <td>S</td>\n",
       "    </tr>\n",
       "    <tr>\n",
       "      <th>3</th>\n",
       "      <td>1</td>\n",
       "      <td>1</td>\n",
       "      <td>female</td>\n",
       "      <td>35.0</td>\n",
       "      <td>1</td>\n",
       "      <td>0</td>\n",
       "      <td>53.1000</td>\n",
       "      <td>S</td>\n",
       "    </tr>\n",
       "    <tr>\n",
       "      <th>4</th>\n",
       "      <td>0</td>\n",
       "      <td>3</td>\n",
       "      <td>male</td>\n",
       "      <td>35.0</td>\n",
       "      <td>0</td>\n",
       "      <td>0</td>\n",
       "      <td>8.0500</td>\n",
       "      <td>S</td>\n",
       "    </tr>\n",
       "    <tr>\n",
       "      <th>...</th>\n",
       "      <td>...</td>\n",
       "      <td>...</td>\n",
       "      <td>...</td>\n",
       "      <td>...</td>\n",
       "      <td>...</td>\n",
       "      <td>...</td>\n",
       "      <td>...</td>\n",
       "      <td>...</td>\n",
       "    </tr>\n",
       "    <tr>\n",
       "      <th>886</th>\n",
       "      <td>0</td>\n",
       "      <td>2</td>\n",
       "      <td>male</td>\n",
       "      <td>27.0</td>\n",
       "      <td>0</td>\n",
       "      <td>0</td>\n",
       "      <td>13.0000</td>\n",
       "      <td>S</td>\n",
       "    </tr>\n",
       "    <tr>\n",
       "      <th>887</th>\n",
       "      <td>1</td>\n",
       "      <td>1</td>\n",
       "      <td>female</td>\n",
       "      <td>19.0</td>\n",
       "      <td>0</td>\n",
       "      <td>0</td>\n",
       "      <td>30.0000</td>\n",
       "      <td>S</td>\n",
       "    </tr>\n",
       "    <tr>\n",
       "      <th>888</th>\n",
       "      <td>0</td>\n",
       "      <td>3</td>\n",
       "      <td>female</td>\n",
       "      <td>28.0</td>\n",
       "      <td>1</td>\n",
       "      <td>2</td>\n",
       "      <td>23.4500</td>\n",
       "      <td>S</td>\n",
       "    </tr>\n",
       "    <tr>\n",
       "      <th>889</th>\n",
       "      <td>1</td>\n",
       "      <td>1</td>\n",
       "      <td>male</td>\n",
       "      <td>26.0</td>\n",
       "      <td>0</td>\n",
       "      <td>0</td>\n",
       "      <td>30.0000</td>\n",
       "      <td>C</td>\n",
       "    </tr>\n",
       "    <tr>\n",
       "      <th>890</th>\n",
       "      <td>0</td>\n",
       "      <td>3</td>\n",
       "      <td>male</td>\n",
       "      <td>32.0</td>\n",
       "      <td>0</td>\n",
       "      <td>0</td>\n",
       "      <td>7.7500</td>\n",
       "      <td>Q</td>\n",
       "    </tr>\n",
       "  </tbody>\n",
       "</table>\n",
       "<p>891 rows × 8 columns</p>\n",
       "</div>"
      ],
      "text/plain": [
       "     Survived  Pclass     Sex   Age  SibSp  Parch     Fare Embarked\n",
       "0           0       3    male  22.0      1      0   7.2500        S\n",
       "1           1       1  female  38.0      1      0  71.2833        C\n",
       "2           1       3  female  26.0      0      0   7.9250        S\n",
       "3           1       1  female  35.0      1      0  53.1000        S\n",
       "4           0       3    male  35.0      0      0   8.0500        S\n",
       "..        ...     ...     ...   ...    ...    ...      ...      ...\n",
       "886         0       2    male  27.0      0      0  13.0000        S\n",
       "887         1       1  female  19.0      0      0  30.0000        S\n",
       "888         0       3  female  28.0      1      2  23.4500        S\n",
       "889         1       1    male  26.0      0      0  30.0000        C\n",
       "890         0       3    male  32.0      0      0   7.7500        Q\n",
       "\n",
       "[891 rows x 8 columns]"
      ]
     },
     "execution_count": 107,
     "metadata": {},
     "output_type": "execute_result"
    }
   ],
   "source": [
    "data"
   ]
  },
  {
   "cell_type": "code",
   "execution_count": 108,
   "metadata": {},
   "outputs": [
    {
     "data": {
      "text/html": [
       "<div>\n",
       "<style scoped>\n",
       "    .dataframe tbody tr th:only-of-type {\n",
       "        vertical-align: middle;\n",
       "    }\n",
       "\n",
       "    .dataframe tbody tr th {\n",
       "        vertical-align: top;\n",
       "    }\n",
       "\n",
       "    .dataframe thead th {\n",
       "        text-align: right;\n",
       "    }\n",
       "</style>\n",
       "<table border=\"1\" class=\"dataframe\">\n",
       "  <thead>\n",
       "    <tr style=\"text-align: right;\">\n",
       "      <th></th>\n",
       "      <th>Survived</th>\n",
       "      <th>Pclass</th>\n",
       "      <th>Age</th>\n",
       "      <th>SibSp</th>\n",
       "      <th>Parch</th>\n",
       "      <th>Fare</th>\n",
       "    </tr>\n",
       "  </thead>\n",
       "  <tbody>\n",
       "    <tr>\n",
       "      <th>count</th>\n",
       "      <td>891.000000</td>\n",
       "      <td>891.000000</td>\n",
       "      <td>891.000000</td>\n",
       "      <td>891.000000</td>\n",
       "      <td>891.000000</td>\n",
       "      <td>891.000000</td>\n",
       "    </tr>\n",
       "    <tr>\n",
       "      <th>mean</th>\n",
       "      <td>0.383838</td>\n",
       "      <td>2.308642</td>\n",
       "      <td>29.361582</td>\n",
       "      <td>0.523008</td>\n",
       "      <td>0.381594</td>\n",
       "      <td>32.204208</td>\n",
       "    </tr>\n",
       "    <tr>\n",
       "      <th>std</th>\n",
       "      <td>0.486592</td>\n",
       "      <td>0.836071</td>\n",
       "      <td>13.019697</td>\n",
       "      <td>1.102743</td>\n",
       "      <td>0.806057</td>\n",
       "      <td>49.693429</td>\n",
       "    </tr>\n",
       "    <tr>\n",
       "      <th>min</th>\n",
       "      <td>0.000000</td>\n",
       "      <td>1.000000</td>\n",
       "      <td>0.420000</td>\n",
       "      <td>0.000000</td>\n",
       "      <td>0.000000</td>\n",
       "      <td>0.000000</td>\n",
       "    </tr>\n",
       "    <tr>\n",
       "      <th>25%</th>\n",
       "      <td>0.000000</td>\n",
       "      <td>2.000000</td>\n",
       "      <td>22.000000</td>\n",
       "      <td>0.000000</td>\n",
       "      <td>0.000000</td>\n",
       "      <td>7.910400</td>\n",
       "    </tr>\n",
       "    <tr>\n",
       "      <th>50%</th>\n",
       "      <td>0.000000</td>\n",
       "      <td>3.000000</td>\n",
       "      <td>28.000000</td>\n",
       "      <td>0.000000</td>\n",
       "      <td>0.000000</td>\n",
       "      <td>14.454200</td>\n",
       "    </tr>\n",
       "    <tr>\n",
       "      <th>75%</th>\n",
       "      <td>1.000000</td>\n",
       "      <td>3.000000</td>\n",
       "      <td>35.000000</td>\n",
       "      <td>1.000000</td>\n",
       "      <td>0.000000</td>\n",
       "      <td>31.000000</td>\n",
       "    </tr>\n",
       "    <tr>\n",
       "      <th>max</th>\n",
       "      <td>1.000000</td>\n",
       "      <td>3.000000</td>\n",
       "      <td>80.000000</td>\n",
       "      <td>8.000000</td>\n",
       "      <td>6.000000</td>\n",
       "      <td>512.329200</td>\n",
       "    </tr>\n",
       "  </tbody>\n",
       "</table>\n",
       "</div>"
      ],
      "text/plain": [
       "         Survived      Pclass         Age       SibSp       Parch        Fare\n",
       "count  891.000000  891.000000  891.000000  891.000000  891.000000  891.000000\n",
       "mean     0.383838    2.308642   29.361582    0.523008    0.381594   32.204208\n",
       "std      0.486592    0.836071   13.019697    1.102743    0.806057   49.693429\n",
       "min      0.000000    1.000000    0.420000    0.000000    0.000000    0.000000\n",
       "25%      0.000000    2.000000   22.000000    0.000000    0.000000    7.910400\n",
       "50%      0.000000    3.000000   28.000000    0.000000    0.000000   14.454200\n",
       "75%      1.000000    3.000000   35.000000    1.000000    0.000000   31.000000\n",
       "max      1.000000    3.000000   80.000000    8.000000    6.000000  512.329200"
      ]
     },
     "execution_count": 108,
     "metadata": {},
     "output_type": "execute_result"
    }
   ],
   "source": [
    "data.describe()"
   ]
  },
  {
   "cell_type": "code",
   "execution_count": 109,
   "metadata": {},
   "outputs": [
    {
     "data": {
      "text/plain": [
       "(array([549.,   0.,   0.,   0.,   0.,   0.,   0.,   0.,   0., 342.]),\n",
       " array([0. , 0.1, 0.2, 0.3, 0.4, 0.5, 0.6, 0.7, 0.8, 0.9, 1. ]),\n",
       " <a list of 10 Patch objects>)"
      ]
     },
     "execution_count": 109,
     "metadata": {},
     "output_type": "execute_result"
    },
    {
     "data": {
      "image/png": "[encoded data removed]",
      "text/plain": [
       "<Figure size 432x288 with 1 Axes>"
      ]
     },
     "metadata": {
      "needs_background": "light"
     },
     "output_type": "display_data"
    }
   ],
   "source": [
    "plt.hist(data[\"Survived\"])"
   ]
  },
  {
   "cell_type": "code",
   "execution_count": 110,
   "metadata": {},
   "outputs": [],
   "source": [
    "#no. of people dies is more than no. of people surviced"
   ]
  },
  {
   "cell_type": "code",
   "execution_count": 111,
   "metadata": {},
   "outputs": [
    {
     "data": {
      "text/plain": [
       "(array([216.,   0.,   0.,   0.,   0., 184.,   0.,   0.,   0., 491.]),\n",
       " array([1. , 1.2, 1.4, 1.6, 1.8, 2. , 2.2, 2.4, 2.6, 2.8, 3. ]),\n",
       " <a list of 10 Patch objects>)"
      ]
     },
     "execution_count": 111,
     "metadata": {},
     "output_type": "execute_result"
    },
    {
     "data": {
      "image/png": "[encoded data removed]",
      "text/plain": [
       "<Figure size 432x288 with 1 Axes>"
      ]
     },
     "metadata": {
      "needs_background": "light"
     },
     "output_type": "display_data"
    }
   ],
   "source": [
    "plt.hist(data[\"Pclass\"])"
   ]
  },
  {
   "cell_type": "code",
   "execution_count": 112,
   "metadata": {},
   "outputs": [],
   "source": [
    "#most of the passangers were 3rd class"
   ]
  },
  {
   "cell_type": "code",
   "execution_count": 113,
   "metadata": {},
   "outputs": [
    {
     "data": {
      "text/plain": [
       "<matplotlib.axes._subplots.AxesSubplot at 0x23288033910>"
      ]
     },
     "execution_count": 113,
     "metadata": {},
     "output_type": "execute_result"
    },
    {
     "data": {
      "image/png": "[encoded data removed]",
      "text/plain": [
       "<Figure size 432x288 with 1 Axes>"
      ]
     },
     "metadata": {
      "needs_background": "light"
     },
     "output_type": "display_data"
    }
   ],
   "source": [
    "data[\"Age\"].plot(kind=\"density\")"
   ]
  },
  {
   "cell_type": "code",
   "execution_count": 114,
   "metadata": {},
   "outputs": [],
   "source": [
    "#most of the passanger's age lies between 20-40"
   ]
  },
  {
   "cell_type": "code",
   "execution_count": 115,
   "metadata": {},
   "outputs": [
    {
     "data": {
      "text/plain": [
       "<matplotlib.axes._subplots.AxesSubplot at 0x232880194f0>"
      ]
     },
     "execution_count": 115,
     "metadata": {},
     "output_type": "execute_result"
    },
    {
     "data": {
      "image/png": "[encoded data removed]",
      "text/plain": [
       "<Figure size 432x288 with 1 Axes>"
      ]
     },
     "metadata": {
      "needs_background": "light"
     },
     "output_type": "display_data"
    }
   ],
   "source": [
    "sns.boxplot(data[\"Age\"], orient=\"v\")"
   ]
  },
  {
   "cell_type": "code",
   "execution_count": 116,
   "metadata": {},
   "outputs": [
    {
     "data": {
      "text/plain": [
       "<matplotlib.axes._subplots.AxesSubplot at 0x232880f10d0>"
      ]
     },
     "execution_count": 116,
     "metadata": {},
     "output_type": "execute_result"
    },
    {
     "data": {
      "image/png": "[encoded data removed]",
      "text/plain": [
       "<Figure size 432x288 with 1 Axes>"
      ]
     },
     "metadata": {
      "needs_background": "light"
     },
     "output_type": "display_data"
    }
   ],
   "source": [
    "sns.scatterplot( y = data[\"Age\"], x = data[\"Survived\"])"
   ]
  },
  {
   "cell_type": "raw",
   "metadata": {},
   "source": [
    "    From the above graph, we can understand that age does not related to the survival rate"
   ]
  },
  {
   "cell_type": "code",
   "execution_count": 117,
   "metadata": {},
   "outputs": [
    {
     "data": {
      "text/plain": [
       "<seaborn.axisgrid.PairGrid at 0x232880dd8e0>"
      ]
     },
     "execution_count": 117,
     "metadata": {},
     "output_type": "execute_result"
    },
    {
     "data": {
      "image/png": "[encoded data removed]",
      "text/plain": [
       "<Figure size 1080x1080 with 42 Axes>"
      ]
     },
     "metadata": {
      "needs_background": "light"
     },
     "output_type": "display_data"
    }
   ],
   "source": [
    "sns.pairplot(data)"
   ]
  },
  {
   "cell_type": "code",
   "execution_count": 118,
   "metadata": {},
   "outputs": [],
   "source": [
    "corr_data = data.corr()"
   ]
  },
  {
   "cell_type": "code",
   "execution_count": 119,
   "metadata": {},
   "outputs": [
    {
     "data": {
      "text/html": [
       "<div>\n",
       "<style scoped>\n",
       "    .dataframe tbody tr th:only-of-type {\n",
       "        vertical-align: middle;\n",
       "    }\n",
       "\n",
       "    .dataframe tbody tr th {\n",
       "        vertical-align: top;\n",
       "    }\n",
       "\n",
       "    .dataframe thead th {\n",
       "        text-align: right;\n",
       "    }\n",
       "</style>\n",
       "<table border=\"1\" class=\"dataframe\">\n",
       "  <thead>\n",
       "    <tr style=\"text-align: right;\">\n",
       "      <th></th>\n",
       "      <th>Survived</th>\n",
       "      <th>Pclass</th>\n",
       "      <th>Age</th>\n",
       "      <th>SibSp</th>\n",
       "      <th>Parch</th>\n",
       "      <th>Fare</th>\n",
       "    </tr>\n",
       "  </thead>\n",
       "  <tbody>\n",
       "    <tr>\n",
       "      <th>Survived</th>\n",
       "      <td>1.000000</td>\n",
       "      <td>-0.338481</td>\n",
       "      <td>-0.064910</td>\n",
       "      <td>-0.035322</td>\n",
       "      <td>0.081629</td>\n",
       "      <td>0.257307</td>\n",
       "    </tr>\n",
       "    <tr>\n",
       "      <th>Pclass</th>\n",
       "      <td>-0.338481</td>\n",
       "      <td>1.000000</td>\n",
       "      <td>-0.339898</td>\n",
       "      <td>0.083081</td>\n",
       "      <td>0.018443</td>\n",
       "      <td>-0.549500</td>\n",
       "    </tr>\n",
       "    <tr>\n",
       "      <th>Age</th>\n",
       "      <td>-0.064910</td>\n",
       "      <td>-0.339898</td>\n",
       "      <td>1.000000</td>\n",
       "      <td>-0.233296</td>\n",
       "      <td>-0.172482</td>\n",
       "      <td>0.096688</td>\n",
       "    </tr>\n",
       "    <tr>\n",
       "      <th>SibSp</th>\n",
       "      <td>-0.035322</td>\n",
       "      <td>0.083081</td>\n",
       "      <td>-0.233296</td>\n",
       "      <td>1.000000</td>\n",
       "      <td>0.414838</td>\n",
       "      <td>0.159651</td>\n",
       "    </tr>\n",
       "    <tr>\n",
       "      <th>Parch</th>\n",
       "      <td>0.081629</td>\n",
       "      <td>0.018443</td>\n",
       "      <td>-0.172482</td>\n",
       "      <td>0.414838</td>\n",
       "      <td>1.000000</td>\n",
       "      <td>0.216225</td>\n",
       "    </tr>\n",
       "    <tr>\n",
       "      <th>Fare</th>\n",
       "      <td>0.257307</td>\n",
       "      <td>-0.549500</td>\n",
       "      <td>0.096688</td>\n",
       "      <td>0.159651</td>\n",
       "      <td>0.216225</td>\n",
       "      <td>1.000000</td>\n",
       "    </tr>\n",
       "  </tbody>\n",
       "</table>\n",
       "</div>"
      ],
      "text/plain": [
       "          Survived    Pclass       Age     SibSp     Parch      Fare\n",
       "Survived  1.000000 -0.338481 -0.064910 -0.035322  0.081629  0.257307\n",
       "Pclass   -0.338481  1.000000 -0.339898  0.083081  0.018443 -0.549500\n",
       "Age      -0.064910 -0.339898  1.000000 -0.233296 -0.172482  0.096688\n",
       "SibSp    -0.035322  0.083081 -0.233296  1.000000  0.414838  0.159651\n",
       "Parch     0.081629  0.018443 -0.172482  0.414838  1.000000  0.216225\n",
       "Fare      0.257307 -0.549500  0.096688  0.159651  0.216225  1.000000"
      ]
     },
     "execution_count": 119,
     "metadata": {},
     "output_type": "execute_result"
    }
   ],
   "source": [
    "corr_data"
   ]
  },
  {
   "cell_type": "code",
   "execution_count": 120,
   "metadata": {},
   "outputs": [
    {
     "data": {
      "text/plain": [
       "<matplotlib.axes._subplots.AxesSubplot at 0x2328a23ad30>"
      ]
     },
     "execution_count": 120,
     "metadata": {},
     "output_type": "execute_result"
    },
    {
     "data": {
      "image/png": "[encoded data removed]",
      "text/plain": [
       "<Figure size 432x288 with 2 Axes>"
      ]
     },
     "metadata": {
      "needs_background": "light"
     },
     "output_type": "display_data"
    }
   ],
   "source": [
    "sns.heatmap(corr_data)"
   ]
  },
  {
   "cell_type": "code",
   "execution_count": 121,
   "metadata": {},
   "outputs": [],
   "source": [
    "#more columns are -vely correleted with the output"
   ]
  },
  {
   "cell_type": "code",
   "execution_count": 122,
   "metadata": {},
   "outputs": [
    {
     "data": {
      "text/plain": [
       "0      1\n",
       "1      1\n",
       "2      0\n",
       "3      1\n",
       "4      0\n",
       "      ..\n",
       "886    0\n",
       "887    0\n",
       "888    1\n",
       "889    0\n",
       "890    0\n",
       "Name: SibSp, Length: 891, dtype: int64"
      ]
     },
     "execution_count": 122,
     "metadata": {},
     "output_type": "execute_result"
    }
   ],
   "source": [
    "data[\"SibSp\"]"
   ]
  },
  {
   "cell_type": "code",
   "execution_count": 123,
   "metadata": {},
   "outputs": [
    {
     "data": {
      "text/plain": [
       "Survived    0.478523\n",
       "Pclass     -0.630548\n",
       "Age         0.510245\n",
       "SibSp       3.695352\n",
       "Parch       2.749117\n",
       "Fare        4.787317\n",
       "dtype: float64"
      ]
     },
     "execution_count": 123,
     "metadata": {},
     "output_type": "execute_result"
    }
   ],
   "source": [
    "data.skew()"
   ]
  },
  {
   "cell_type": "markdown",
   "metadata": {},
   "source": [
    "since columns are categorical like, we don't need to remove outliers and skewness"
   ]
  },
  {
   "cell_type": "code",
   "execution_count": 124,
   "metadata": {},
   "outputs": [],
   "source": [
    "from sklearn.preprocessing import LabelEncoder"
   ]
  },
  {
   "cell_type": "code",
   "execution_count": 125,
   "metadata": {},
   "outputs": [
    {
     "data": {
      "text/html": [
       "<div>\n",
       "<style scoped>\n",
       "    .dataframe tbody tr th:only-of-type {\n",
       "        vertical-align: middle;\n",
       "    }\n",
       "\n",
       "    .dataframe tbody tr th {\n",
       "        vertical-align: top;\n",
       "    }\n",
       "\n",
       "    .dataframe thead th {\n",
       "        text-align: right;\n",
       "    }\n",
       "</style>\n",
       "<table border=\"1\" class=\"dataframe\">\n",
       "  <thead>\n",
       "    <tr style=\"text-align: right;\">\n",
       "      <th></th>\n",
       "      <th>Survived</th>\n",
       "      <th>Pclass</th>\n",
       "      <th>Sex</th>\n",
       "      <th>Age</th>\n",
       "      <th>SibSp</th>\n",
       "      <th>Parch</th>\n",
       "      <th>Fare</th>\n",
       "      <th>Embarked</th>\n",
       "    </tr>\n",
       "  </thead>\n",
       "  <tbody>\n",
       "    <tr>\n",
       "      <th>0</th>\n",
       "      <td>0</td>\n",
       "      <td>3</td>\n",
       "      <td>male</td>\n",
       "      <td>22.0</td>\n",
       "      <td>1</td>\n",
       "      <td>0</td>\n",
       "      <td>7.2500</td>\n",
       "      <td>S</td>\n",
       "    </tr>\n",
       "    <tr>\n",
       "      <th>1</th>\n",
       "      <td>1</td>\n",
       "      <td>1</td>\n",
       "      <td>female</td>\n",
       "      <td>38.0</td>\n",
       "      <td>1</td>\n",
       "      <td>0</td>\n",
       "      <td>71.2833</td>\n",
       "      <td>C</td>\n",
       "    </tr>\n",
       "    <tr>\n",
       "      <th>2</th>\n",
       "      <td>1</td>\n",
       "      <td>3</td>\n",
       "      <td>female</td>\n",
       "      <td>26.0</td>\n",
       "      <td>0</td>\n",
       "      <td>0</td>\n",
       "      <td>7.9250</td>\n",
       "      <td>S</td>\n",
       "    </tr>\n",
       "    <tr>\n",
       "      <th>3</th>\n",
       "      <td>1</td>\n",
       "      <td>1</td>\n",
       "      <td>female</td>\n",
       "      <td>35.0</td>\n",
       "      <td>1</td>\n",
       "      <td>0</td>\n",
       "      <td>53.1000</td>\n",
       "      <td>S</td>\n",
       "    </tr>\n",
       "    <tr>\n",
       "      <th>4</th>\n",
       "      <td>0</td>\n",
       "      <td>3</td>\n",
       "      <td>male</td>\n",
       "      <td>35.0</td>\n",
       "      <td>0</td>\n",
       "      <td>0</td>\n",
       "      <td>8.0500</td>\n",
       "      <td>S</td>\n",
       "    </tr>\n",
       "    <tr>\n",
       "      <th>...</th>\n",
       "      <td>...</td>\n",
       "      <td>...</td>\n",
       "      <td>...</td>\n",
       "      <td>...</td>\n",
       "      <td>...</td>\n",
       "      <td>...</td>\n",
       "      <td>...</td>\n",
       "      <td>...</td>\n",
       "    </tr>\n",
       "    <tr>\n",
       "      <th>886</th>\n",
       "      <td>0</td>\n",
       "      <td>2</td>\n",
       "      <td>male</td>\n",
       "      <td>27.0</td>\n",
       "      <td>0</td>\n",
       "      <td>0</td>\n",
       "      <td>13.0000</td>\n",
       "      <td>S</td>\n",
       "    </tr>\n",
       "    <tr>\n",
       "      <th>887</th>\n",
       "      <td>1</td>\n",
       "      <td>1</td>\n",
       "      <td>female</td>\n",
       "      <td>19.0</td>\n",
       "      <td>0</td>\n",
       "      <td>0</td>\n",
       "      <td>30.0000</td>\n",
       "      <td>S</td>\n",
       "    </tr>\n",
       "    <tr>\n",
       "      <th>888</th>\n",
       "      <td>0</td>\n",
       "      <td>3</td>\n",
       "      <td>female</td>\n",
       "      <td>28.0</td>\n",
       "      <td>1</td>\n",
       "      <td>2</td>\n",
       "      <td>23.4500</td>\n",
       "      <td>S</td>\n",
       "    </tr>\n",
       "    <tr>\n",
       "      <th>889</th>\n",
       "      <td>1</td>\n",
       "      <td>1</td>\n",
       "      <td>male</td>\n",
       "      <td>26.0</td>\n",
       "      <td>0</td>\n",
       "      <td>0</td>\n",
       "      <td>30.0000</td>\n",
       "      <td>C</td>\n",
       "    </tr>\n",
       "    <tr>\n",
       "      <th>890</th>\n",
       "      <td>0</td>\n",
       "      <td>3</td>\n",
       "      <td>male</td>\n",
       "      <td>32.0</td>\n",
       "      <td>0</td>\n",
       "      <td>0</td>\n",
       "      <td>7.7500</td>\n",
       "      <td>Q</td>\n",
       "    </tr>\n",
       "  </tbody>\n",
       "</table>\n",
       "<p>891 rows × 8 columns</p>\n",
       "</div>"
      ],
      "text/plain": [
       "     Survived  Pclass     Sex   Age  SibSp  Parch     Fare Embarked\n",
       "0           0       3    male  22.0      1      0   7.2500        S\n",
       "1           1       1  female  38.0      1      0  71.2833        C\n",
       "2           1       3  female  26.0      0      0   7.9250        S\n",
       "3           1       1  female  35.0      1      0  53.1000        S\n",
       "4           0       3    male  35.0      0      0   8.0500        S\n",
       "..        ...     ...     ...   ...    ...    ...      ...      ...\n",
       "886         0       2    male  27.0      0      0  13.0000        S\n",
       "887         1       1  female  19.0      0      0  30.0000        S\n",
       "888         0       3  female  28.0      1      2  23.4500        S\n",
       "889         1       1    male  26.0      0      0  30.0000        C\n",
       "890         0       3    male  32.0      0      0   7.7500        Q\n",
       "\n",
       "[891 rows x 8 columns]"
      ]
     },
     "execution_count": 125,
     "metadata": {},
     "output_type": "execute_result"
    }
   ],
   "source": [
    "data"
   ]
  },
  {
   "cell_type": "code",
   "execution_count": 126,
   "metadata": {},
   "outputs": [
    {
     "data": {
      "text/plain": [
       "LabelEncoder()"
      ]
     },
     "execution_count": 126,
     "metadata": {},
     "output_type": "execute_result"
    }
   ],
   "source": [
    "le1 = LabelEncoder()\n",
    "le1.fit(data[\"Sex\"])"
   ]
  },
  {
   "cell_type": "code",
   "execution_count": 127,
   "metadata": {},
   "outputs": [],
   "source": [
    "data[\"Sex\"] = le1.transform(data[\"Sex\"])"
   ]
  },
  {
   "cell_type": "code",
   "execution_count": 128,
   "metadata": {},
   "outputs": [],
   "source": [
    "le2 = LabelEncoder()"
   ]
  },
  {
   "cell_type": "code",
   "execution_count": 129,
   "metadata": {},
   "outputs": [
    {
     "data": {
      "text/plain": [
       "0      S\n",
       "1      C\n",
       "2      S\n",
       "3      S\n",
       "4      S\n",
       "      ..\n",
       "886    S\n",
       "887    S\n",
       "888    S\n",
       "889    C\n",
       "890    Q\n",
       "Name: Embarked, Length: 891, dtype: object"
      ]
     },
     "execution_count": 129,
     "metadata": {},
     "output_type": "execute_result"
    }
   ],
   "source": [
    "data[\"Embarked\"]"
   ]
  },
  {
   "cell_type": "code",
   "execution_count": 130,
   "metadata": {},
   "outputs": [],
   "source": [
    "new_emb = []\n",
    "for i in data[\"Embarked\"]:\n",
    "    new_emb.append(str(i))"
   ]
  },
  {
   "cell_type": "code",
   "execution_count": 131,
   "metadata": {},
   "outputs": [
    {
     "data": {
      "text/plain": [
       "['S',\n",
       " 'C',\n",
       " 'S',\n",
       " 'S',\n",
       " 'S',\n",
       " 'Q',\n",
       " 'S',\n",
       " 'S',\n",
       " 'S',\n",
       " 'C',\n",
       " 'S',\n",
       " 'S',\n",
       " 'S',\n",
       " 'S',\n",
       " 'S',\n",
       " 'S',\n",
       " 'Q',\n",
       " 'S',\n",
       " 'S',\n",
       " 'C',\n",
       " 'S',\n",
       " 'S',\n",
       " 'Q',\n",
       " 'S',\n",
       " 'S',\n",
       " 'S',\n",
       " 'C',\n",
       " 'S',\n",
       " 'Q',\n",
       " 'S',\n",
       " 'C',\n",
       " 'C',\n",
       " 'Q',\n",
       " 'S',\n",
       " 'C',\n",
       " 'S',\n",
       " 'C',\n",
       " 'S',\n",
       " 'S',\n",
       " 'C',\n",
       " 'S',\n",
       " 'S',\n",
       " 'C',\n",
       " 'C',\n",
       " 'Q',\n",
       " 'S',\n",
       " 'Q',\n",
       " 'Q',\n",
       " 'C',\n",
       " 'S',\n",
       " 'S',\n",
       " 'S',\n",
       " 'C',\n",
       " 'S',\n",
       " 'C',\n",
       " 'S',\n",
       " 'S',\n",
       " 'C',\n",
       " 'S',\n",
       " 'S',\n",
       " 'C',\n",
       " '<bound method Series.mode of 0      S\\n1      C\\n2      S\\n3      S\\n4      S\\n      ..\\n886    S\\n887    S\\n888    S\\n889    C\\n890    Q\\nName: Embarked, Length: 891, dtype: object>',\n",
       " 'S',\n",
       " 'S',\n",
       " 'C',\n",
       " 'C',\n",
       " 'S',\n",
       " 'S',\n",
       " 'S',\n",
       " 'S',\n",
       " 'S',\n",
       " 'S',\n",
       " 'S',\n",
       " 'C',\n",
       " 'S',\n",
       " 'S',\n",
       " 'S',\n",
       " 'S',\n",
       " 'S',\n",
       " 'S',\n",
       " 'S',\n",
       " 'S',\n",
       " 'Q',\n",
       " 'S',\n",
       " 'S',\n",
       " 'S',\n",
       " 'S',\n",
       " 'S',\n",
       " 'S',\n",
       " 'S',\n",
       " 'S',\n",
       " 'S',\n",
       " 'S',\n",
       " 'S',\n",
       " 'S',\n",
       " 'S',\n",
       " 'C',\n",
       " 'C',\n",
       " 'S',\n",
       " 'S',\n",
       " 'S',\n",
       " 'S',\n",
       " 'S',\n",
       " 'S',\n",
       " 'S',\n",
       " 'S',\n",
       " 'S',\n",
       " 'S',\n",
       " 'S',\n",
       " 'Q',\n",
       " 'S',\n",
       " 'C',\n",
       " 'S',\n",
       " 'S',\n",
       " 'C',\n",
       " 'S',\n",
       " 'Q',\n",
       " 'S',\n",
       " 'C',\n",
       " 'S',\n",
       " 'S',\n",
       " 'S',\n",
       " 'C',\n",
       " 'S',\n",
       " 'S',\n",
       " 'C',\n",
       " 'Q',\n",
       " 'S',\n",
       " 'C',\n",
       " 'S',\n",
       " 'C',\n",
       " 'S',\n",
       " 'S',\n",
       " 'S',\n",
       " 'S',\n",
       " 'C',\n",
       " 'S',\n",
       " 'S',\n",
       " 'S',\n",
       " 'C',\n",
       " 'C',\n",
       " 'S',\n",
       " 'S',\n",
       " 'Q',\n",
       " 'S',\n",
       " 'S',\n",
       " 'S',\n",
       " 'S',\n",
       " 'S',\n",
       " 'S',\n",
       " 'S',\n",
       " 'S',\n",
       " 'S',\n",
       " 'S',\n",
       " 'S',\n",
       " 'C',\n",
       " 'Q',\n",
       " 'S',\n",
       " 'S',\n",
       " 'S',\n",
       " 'S',\n",
       " 'S',\n",
       " 'S',\n",
       " 'S',\n",
       " 'S',\n",
       " 'S',\n",
       " 'S',\n",
       " 'S',\n",
       " 'S',\n",
       " 'S',\n",
       " 'S',\n",
       " 'Q',\n",
       " 'S',\n",
       " 'S',\n",
       " 'C',\n",
       " 'S',\n",
       " 'S',\n",
       " 'C',\n",
       " 'S',\n",
       " 'S',\n",
       " 'S',\n",
       " 'C',\n",
       " 'S',\n",
       " 'S',\n",
       " 'S',\n",
       " 'S',\n",
       " 'Q',\n",
       " 'S',\n",
       " 'Q',\n",
       " 'S',\n",
       " 'S',\n",
       " 'S',\n",
       " 'S',\n",
       " 'S',\n",
       " 'C',\n",
       " 'C',\n",
       " 'Q',\n",
       " 'S',\n",
       " 'Q',\n",
       " 'S',\n",
       " 'S',\n",
       " 'S',\n",
       " 'S',\n",
       " 'C',\n",
       " 'S',\n",
       " 'S',\n",
       " 'S',\n",
       " 'C',\n",
       " 'Q',\n",
       " 'C',\n",
       " 'S',\n",
       " 'S',\n",
       " 'S',\n",
       " 'S',\n",
       " 'Q',\n",
       " 'C',\n",
       " 'S',\n",
       " 'S',\n",
       " 'C',\n",
       " 'S',\n",
       " 'S',\n",
       " 'S',\n",
       " 'S',\n",
       " 'S',\n",
       " 'S',\n",
       " 'S',\n",
       " 'S',\n",
       " 'S',\n",
       " 'S',\n",
       " 'S',\n",
       " 'S',\n",
       " 'S',\n",
       " 'S',\n",
       " 'S',\n",
       " 'S',\n",
       " 'S',\n",
       " 'S',\n",
       " 'S',\n",
       " 'S',\n",
       " 'S',\n",
       " 'C',\n",
       " 'Q',\n",
       " 'S',\n",
       " 'S',\n",
       " 'C',\n",
       " 'Q',\n",
       " 'S',\n",
       " 'S',\n",
       " 'S',\n",
       " 'S',\n",
       " 'S',\n",
       " 'S',\n",
       " 'S',\n",
       " 'S',\n",
       " 'S',\n",
       " 'C',\n",
       " 'C',\n",
       " 'S',\n",
       " 'C',\n",
       " 'S',\n",
       " 'Q',\n",
       " 'S',\n",
       " 'S',\n",
       " 'S',\n",
       " 'Q',\n",
       " 'S',\n",
       " 'S',\n",
       " 'S',\n",
       " 'S',\n",
       " 'S',\n",
       " 'S',\n",
       " 'S',\n",
       " 'S',\n",
       " 'C',\n",
       " 'Q',\n",
       " 'S',\n",
       " 'S',\n",
       " 'S',\n",
       " 'Q',\n",
       " 'S',\n",
       " 'Q',\n",
       " 'S',\n",
       " 'S',\n",
       " 'S',\n",
       " 'S',\n",
       " 'C',\n",
       " 'S',\n",
       " 'S',\n",
       " 'S',\n",
       " 'Q',\n",
       " 'S',\n",
       " 'C',\n",
       " 'C',\n",
       " 'S',\n",
       " 'S',\n",
       " 'C',\n",
       " 'C',\n",
       " 'S',\n",
       " 'S',\n",
       " 'C',\n",
       " 'Q',\n",
       " 'Q',\n",
       " 'S',\n",
       " 'Q',\n",
       " 'S',\n",
       " 'S',\n",
       " 'C',\n",
       " 'C',\n",
       " 'C',\n",
       " 'C',\n",
       " 'C',\n",
       " 'C',\n",
       " 'S',\n",
       " 'S',\n",
       " 'S',\n",
       " 'S',\n",
       " 'S',\n",
       " 'S',\n",
       " 'S',\n",
       " 'C',\n",
       " 'S',\n",
       " 'S',\n",
       " 'Q',\n",
       " 'S',\n",
       " 'S',\n",
       " 'C',\n",
       " 'S',\n",
       " 'S',\n",
       " 'S',\n",
       " 'C',\n",
       " 'Q',\n",
       " 'S',\n",
       " 'S',\n",
       " 'S',\n",
       " 'S',\n",
       " 'S',\n",
       " 'S',\n",
       " 'C',\n",
       " 'S',\n",
       " 'S',\n",
       " 'S',\n",
       " 'S',\n",
       " 'S',\n",
       " 'S',\n",
       " 'S',\n",
       " 'S',\n",
       " 'S',\n",
       " 'S',\n",
       " 'S',\n",
       " 'S',\n",
       " 'S',\n",
       " 'S',\n",
       " 'C',\n",
       " 'S',\n",
       " 'C',\n",
       " 'S',\n",
       " 'S',\n",
       " 'S',\n",
       " 'Q',\n",
       " 'Q',\n",
       " 'S',\n",
       " 'C',\n",
       " 'C',\n",
       " 'S',\n",
       " 'Q',\n",
       " 'S',\n",
       " 'C',\n",
       " 'C',\n",
       " 'Q',\n",
       " 'C',\n",
       " 'C',\n",
       " 'S',\n",
       " 'S',\n",
       " 'C',\n",
       " 'S',\n",
       " 'C',\n",
       " 'S',\n",
       " 'C',\n",
       " 'C',\n",
       " 'S',\n",
       " 'C',\n",
       " 'C',\n",
       " 'S',\n",
       " 'S',\n",
       " 'S',\n",
       " 'S',\n",
       " 'S',\n",
       " 'S',\n",
       " 'Q',\n",
       " 'C',\n",
       " 'S',\n",
       " 'S',\n",
       " 'S',\n",
       " 'C',\n",
       " 'S',\n",
       " 'S',\n",
       " 'S',\n",
       " 'S',\n",
       " 'S',\n",
       " 'S',\n",
       " 'S',\n",
       " 'S',\n",
       " 'S',\n",
       " 'S',\n",
       " 'S',\n",
       " 'S',\n",
       " 'S',\n",
       " 'S',\n",
       " 'S',\n",
       " 'S',\n",
       " 'S',\n",
       " 'Q',\n",
       " 'Q',\n",
       " 'S',\n",
       " 'S',\n",
       " 'S',\n",
       " 'S',\n",
       " 'S',\n",
       " 'S',\n",
       " 'S',\n",
       " 'C',\n",
       " 'Q',\n",
       " 'S',\n",
       " 'S',\n",
       " 'S',\n",
       " 'S',\n",
       " 'S',\n",
       " 'S',\n",
       " 'Q',\n",
       " 'S',\n",
       " 'S',\n",
       " 'S',\n",
       " 'S',\n",
       " 'S',\n",
       " 'S',\n",
       " 'S',\n",
       " 'S',\n",
       " 'S',\n",
       " 'S',\n",
       " 'S',\n",
       " 'S',\n",
       " 'S',\n",
       " 'S',\n",
       " 'S',\n",
       " 'S',\n",
       " 'S',\n",
       " 'S',\n",
       " 'S',\n",
       " 'C',\n",
       " 'S',\n",
       " 'S',\n",
       " 'S',\n",
       " 'C',\n",
       " 'C',\n",
       " 'S',\n",
       " 'C',\n",
       " 'S',\n",
       " 'S',\n",
       " 'S',\n",
       " 'Q',\n",
       " 'S',\n",
       " 'S',\n",
       " 'S',\n",
       " 'S',\n",
       " 'S',\n",
       " 'S',\n",
       " 'S',\n",
       " 'S',\n",
       " 'Q',\n",
       " 'C',\n",
       " 'S',\n",
       " 'S',\n",
       " 'S',\n",
       " 'C',\n",
       " 'S',\n",
       " 'S',\n",
       " 'S',\n",
       " 'S',\n",
       " 'S',\n",
       " 'S',\n",
       " 'S',\n",
       " 'S',\n",
       " 'S',\n",
       " 'S',\n",
       " 'C',\n",
       " 'S',\n",
       " 'S',\n",
       " 'C',\n",
       " 'S',\n",
       " 'S',\n",
       " 'S',\n",
       " 'S',\n",
       " 'S',\n",
       " 'C',\n",
       " 'S',\n",
       " 'C',\n",
       " 'C',\n",
       " 'S',\n",
       " 'S',\n",
       " 'S',\n",
       " 'S',\n",
       " 'Q',\n",
       " 'Q',\n",
       " 'S',\n",
       " 'S',\n",
       " 'C',\n",
       " 'S',\n",
       " 'S',\n",
       " 'S',\n",
       " 'S',\n",
       " 'Q',\n",
       " 'S',\n",
       " 'S',\n",
       " 'C',\n",
       " 'S',\n",
       " 'S',\n",
       " 'S',\n",
       " 'Q',\n",
       " 'S',\n",
       " 'S',\n",
       " 'S',\n",
       " 'S',\n",
       " 'C',\n",
       " 'C',\n",
       " 'C',\n",
       " 'Q',\n",
       " 'S',\n",
       " 'S',\n",
       " 'S',\n",
       " 'S',\n",
       " 'S',\n",
       " 'C',\n",
       " 'C',\n",
       " 'C',\n",
       " 'S',\n",
       " 'S',\n",
       " 'S',\n",
       " 'C',\n",
       " 'S',\n",
       " 'C',\n",
       " 'S',\n",
       " 'S',\n",
       " 'S',\n",
       " 'S',\n",
       " 'C',\n",
       " 'S',\n",
       " 'S',\n",
       " 'C',\n",
       " 'S',\n",
       " 'S',\n",
       " 'C',\n",
       " 'S',\n",
       " 'Q',\n",
       " 'C',\n",
       " 'S',\n",
       " 'S',\n",
       " 'C',\n",
       " 'C',\n",
       " 'S',\n",
       " 'S',\n",
       " 'Q',\n",
       " 'S',\n",
       " 'S',\n",
       " 'S',\n",
       " 'S',\n",
       " 'S',\n",
       " 'S',\n",
       " 'S',\n",
       " 'C',\n",
       " 'S',\n",
       " 'S',\n",
       " 'S',\n",
       " 'S',\n",
       " 'Q',\n",
       " 'S',\n",
       " 'S',\n",
       " 'S',\n",
       " 'S',\n",
       " 'C',\n",
       " 'S',\n",
       " 'S',\n",
       " 'C',\n",
       " 'S',\n",
       " 'C',\n",
       " 'C',\n",
       " 'S',\n",
       " 'S',\n",
       " 'C',\n",
       " 'S',\n",
       " 'S',\n",
       " 'S',\n",
       " 'C',\n",
       " 'S',\n",
       " 'Q',\n",
       " 'S',\n",
       " 'S',\n",
       " 'S',\n",
       " 'S',\n",
       " 'C',\n",
       " 'C',\n",
       " 'S',\n",
       " 'S',\n",
       " 'S',\n",
       " 'S',\n",
       " 'C',\n",
       " 'S',\n",
       " 'S',\n",
       " 'S',\n",
       " 'C',\n",
       " 'S',\n",
       " 'S',\n",
       " 'S',\n",
       " 'Q',\n",
       " 'Q',\n",
       " 'S',\n",
       " 'S',\n",
       " 'S',\n",
       " 'S',\n",
       " 'S',\n",
       " 'S',\n",
       " 'C',\n",
       " 'S',\n",
       " 'C',\n",
       " 'S',\n",
       " 'S',\n",
       " 'S',\n",
       " 'Q',\n",
       " 'S',\n",
       " 'S',\n",
       " 'Q',\n",
       " 'S',\n",
       " 'S',\n",
       " 'C',\n",
       " 'S',\n",
       " 'S',\n",
       " 'S',\n",
       " 'S',\n",
       " 'S',\n",
       " 'S',\n",
       " 'S',\n",
       " 'S',\n",
       " 'C',\n",
       " 'S',\n",
       " 'S',\n",
       " 'C',\n",
       " 'C',\n",
       " 'S',\n",
       " 'C',\n",
       " 'S',\n",
       " 'S',\n",
       " 'S',\n",
       " 'S',\n",
       " 'S',\n",
       " 'Q',\n",
       " 'Q',\n",
       " 'S',\n",
       " 'S',\n",
       " 'Q',\n",
       " 'S',\n",
       " 'C',\n",
       " 'S',\n",
       " 'C',\n",
       " 'S',\n",
       " 'S',\n",
       " 'S',\n",
       " 'S',\n",
       " 'S',\n",
       " 'S',\n",
       " 'S',\n",
       " 'S',\n",
       " 'S',\n",
       " 'S',\n",
       " 'S',\n",
       " 'S',\n",
       " 'S',\n",
       " 'S',\n",
       " 'S',\n",
       " 'S',\n",
       " 'S',\n",
       " 'C',\n",
       " 'Q',\n",
       " 'C',\n",
       " 'S',\n",
       " 'S',\n",
       " 'S',\n",
       " 'C',\n",
       " 'S',\n",
       " 'S',\n",
       " 'S',\n",
       " 'S',\n",
       " 'S',\n",
       " 'C',\n",
       " 'S',\n",
       " 'C',\n",
       " 'S',\n",
       " 'S',\n",
       " 'S',\n",
       " 'Q',\n",
       " 'C',\n",
       " 'S',\n",
       " 'C',\n",
       " 'S',\n",
       " 'C',\n",
       " 'Q',\n",
       " 'S',\n",
       " 'S',\n",
       " 'S',\n",
       " 'S',\n",
       " 'S',\n",
       " 'C',\n",
       " 'C',\n",
       " 'S',\n",
       " 'S',\n",
       " 'S',\n",
       " 'S',\n",
       " 'S',\n",
       " 'C',\n",
       " 'S',\n",
       " 'Q',\n",
       " 'S',\n",
       " 'S',\n",
       " 'S',\n",
       " 'S',\n",
       " 'S',\n",
       " 'S',\n",
       " 'S',\n",
       " 'S',\n",
       " 'Q',\n",
       " 'S',\n",
       " 'S',\n",
       " 'S',\n",
       " 'C',\n",
       " 'S',\n",
       " 'S',\n",
       " 'S',\n",
       " 'S',\n",
       " 'S',\n",
       " 'C',\n",
       " 'S',\n",
       " 'S',\n",
       " 'S',\n",
       " 'S',\n",
       " 'C',\n",
       " 'S',\n",
       " 'S',\n",
       " 'S',\n",
       " 'S',\n",
       " 'S',\n",
       " 'S',\n",
       " 'Q',\n",
       " 'S',\n",
       " 'S',\n",
       " 'S',\n",
       " 'S',\n",
       " 'S',\n",
       " 'S',\n",
       " 'S',\n",
       " 'S',\n",
       " 'S',\n",
       " 'S',\n",
       " 'S',\n",
       " 'S',\n",
       " 'C',\n",
       " 'S',\n",
       " 'S',\n",
       " 'S',\n",
       " 'C',\n",
       " 'Q',\n",
       " 'Q',\n",
       " 'S',\n",
       " 'S',\n",
       " 'S',\n",
       " 'S',\n",
       " 'C',\n",
       " 'S',\n",
       " 'S',\n",
       " 'Q',\n",
       " 'S',\n",
       " 'Q',\n",
       " 'S',\n",
       " 'C',\n",
       " 'S',\n",
       " 'S',\n",
       " 'S',\n",
       " 'S',\n",
       " 'S',\n",
       " 'S',\n",
       " 'Q',\n",
       " 'S',\n",
       " 'C',\n",
       " 'Q',\n",
       " 'S',\n",
       " 'S',\n",
       " 'C',\n",
       " 'S',\n",
       " 'S',\n",
       " 'S',\n",
       " 'S',\n",
       " 'C',\n",
       " 'S',\n",
       " 'S',\n",
       " 'S',\n",
       " 'S',\n",
       " 'C',\n",
       " 'S',\n",
       " 'S',\n",
       " 'S',\n",
       " 'S',\n",
       " 'S',\n",
       " 'S',\n",
       " 'S',\n",
       " 'S',\n",
       " 'S',\n",
       " 'S',\n",
       " 'S',\n",
       " 'S',\n",
       " 'S',\n",
       " 'C',\n",
       " 'S',\n",
       " 'S',\n",
       " 'S',\n",
       " 'S',\n",
       " 'S',\n",
       " 'S',\n",
       " 'S',\n",
       " 'Q',\n",
       " 'S',\n",
       " 'C',\n",
       " 'Q',\n",
       " '<bound method Series.mode of 0      S\\n1      C\\n2      S\\n3      S\\n4      S\\n      ..\\n886    S\\n887    S\\n888    S\\n889    C\\n890    Q\\nName: Embarked, Length: 891, dtype: object>',\n",
       " 'C',\n",
       " 'S',\n",
       " 'C',\n",
       " 'S',\n",
       " 'S',\n",
       " 'C',\n",
       " 'S',\n",
       " 'S',\n",
       " 'S',\n",
       " 'C',\n",
       " 'S',\n",
       " 'S',\n",
       " 'C',\n",
       " 'C',\n",
       " 'S',\n",
       " 'S',\n",
       " 'S',\n",
       " 'C',\n",
       " 'S',\n",
       " 'C',\n",
       " 'S',\n",
       " 'S',\n",
       " 'C',\n",
       " 'S',\n",
       " 'S',\n",
       " 'S',\n",
       " 'S',\n",
       " 'S',\n",
       " 'C',\n",
       " 'C',\n",
       " 'S',\n",
       " 'S',\n",
       " 'S',\n",
       " 'S',\n",
       " 'S',\n",
       " 'S',\n",
       " 'C',\n",
       " 'S',\n",
       " 'S',\n",
       " 'S',\n",
       " 'S',\n",
       " 'S',\n",
       " 'S',\n",
       " 'S',\n",
       " 'C',\n",
       " 'C',\n",
       " 'S',\n",
       " 'S',\n",
       " 'S',\n",
       " 'C',\n",
       " 'S',\n",
       " 'S',\n",
       " 'S',\n",
       " 'S',\n",
       " 'S',\n",
       " 'Q',\n",
       " 'S',\n",
       " 'S',\n",
       " 'S',\n",
       " 'C',\n",
       " 'Q']"
      ]
     },
     "execution_count": 131,
     "metadata": {},
     "output_type": "execute_result"
    }
   ],
   "source": [
    "new_emb"
   ]
  },
  {
   "cell_type": "code",
   "execution_count": 132,
   "metadata": {},
   "outputs": [
    {
     "data": {
      "text/plain": [
       "LabelEncoder()"
      ]
     },
     "execution_count": 132,
     "metadata": {},
     "output_type": "execute_result"
    }
   ],
   "source": [
    "le2.fit(new_emb)"
   ]
  },
  {
   "cell_type": "code",
   "execution_count": 133,
   "metadata": {},
   "outputs": [],
   "source": [
    "data[\"Embarked\"] = le2.transform(new_emb)"
   ]
  },
  {
   "cell_type": "code",
   "execution_count": 134,
   "metadata": {},
   "outputs": [
    {
     "data": {
      "text/html": [
       "<div>\n",
       "<style scoped>\n",
       "    .dataframe tbody tr th:only-of-type {\n",
       "        vertical-align: middle;\n",
       "    }\n",
       "\n",
       "    .dataframe tbody tr th {\n",
       "        vertical-align: top;\n",
       "    }\n",
       "\n",
       "    .dataframe thead th {\n",
       "        text-align: right;\n",
       "    }\n",
       "</style>\n",
       "<table border=\"1\" class=\"dataframe\">\n",
       "  <thead>\n",
       "    <tr style=\"text-align: right;\">\n",
       "      <th></th>\n",
       "      <th>Survived</th>\n",
       "      <th>Pclass</th>\n",
       "      <th>Sex</th>\n",
       "      <th>Age</th>\n",
       "      <th>SibSp</th>\n",
       "      <th>Parch</th>\n",
       "      <th>Fare</th>\n",
       "      <th>Embarked</th>\n",
       "    </tr>\n",
       "  </thead>\n",
       "  <tbody>\n",
       "    <tr>\n",
       "      <th>0</th>\n",
       "      <td>0</td>\n",
       "      <td>3</td>\n",
       "      <td>1</td>\n",
       "      <td>22.0</td>\n",
       "      <td>1</td>\n",
       "      <td>0</td>\n",
       "      <td>7.2500</td>\n",
       "      <td>3</td>\n",
       "    </tr>\n",
       "    <tr>\n",
       "      <th>1</th>\n",
       "      <td>1</td>\n",
       "      <td>1</td>\n",
       "      <td>0</td>\n",
       "      <td>38.0</td>\n",
       "      <td>1</td>\n",
       "      <td>0</td>\n",
       "      <td>71.2833</td>\n",
       "      <td>1</td>\n",
       "    </tr>\n",
       "    <tr>\n",
       "      <th>2</th>\n",
       "      <td>1</td>\n",
       "      <td>3</td>\n",
       "      <td>0</td>\n",
       "      <td>26.0</td>\n",
       "      <td>0</td>\n",
       "      <td>0</td>\n",
       "      <td>7.9250</td>\n",
       "      <td>3</td>\n",
       "    </tr>\n",
       "    <tr>\n",
       "      <th>3</th>\n",
       "      <td>1</td>\n",
       "      <td>1</td>\n",
       "      <td>0</td>\n",
       "      <td>35.0</td>\n",
       "      <td>1</td>\n",
       "      <td>0</td>\n",
       "      <td>53.1000</td>\n",
       "      <td>3</td>\n",
       "    </tr>\n",
       "    <tr>\n",
       "      <th>4</th>\n",
       "      <td>0</td>\n",
       "      <td>3</td>\n",
       "      <td>1</td>\n",
       "      <td>35.0</td>\n",
       "      <td>0</td>\n",
       "      <td>0</td>\n",
       "      <td>8.0500</td>\n",
       "      <td>3</td>\n",
       "    </tr>\n",
       "    <tr>\n",
       "      <th>...</th>\n",
       "      <td>...</td>\n",
       "      <td>...</td>\n",
       "      <td>...</td>\n",
       "      <td>...</td>\n",
       "      <td>...</td>\n",
       "      <td>...</td>\n",
       "      <td>...</td>\n",
       "      <td>...</td>\n",
       "    </tr>\n",
       "    <tr>\n",
       "      <th>886</th>\n",
       "      <td>0</td>\n",
       "      <td>2</td>\n",
       "      <td>1</td>\n",
       "      <td>27.0</td>\n",
       "      <td>0</td>\n",
       "      <td>0</td>\n",
       "      <td>13.0000</td>\n",
       "      <td>3</td>\n",
       "    </tr>\n",
       "    <tr>\n",
       "      <th>887</th>\n",
       "      <td>1</td>\n",
       "      <td>1</td>\n",
       "      <td>0</td>\n",
       "      <td>19.0</td>\n",
       "      <td>0</td>\n",
       "      <td>0</td>\n",
       "      <td>30.0000</td>\n",
       "      <td>3</td>\n",
       "    </tr>\n",
       "    <tr>\n",
       "      <th>888</th>\n",
       "      <td>0</td>\n",
       "      <td>3</td>\n",
       "      <td>0</td>\n",
       "      <td>28.0</td>\n",
       "      <td>1</td>\n",
       "      <td>2</td>\n",
       "      <td>23.4500</td>\n",
       "      <td>3</td>\n",
       "    </tr>\n",
       "    <tr>\n",
       "      <th>889</th>\n",
       "      <td>1</td>\n",
       "      <td>1</td>\n",
       "      <td>1</td>\n",
       "      <td>26.0</td>\n",
       "      <td>0</td>\n",
       "      <td>0</td>\n",
       "      <td>30.0000</td>\n",
       "      <td>1</td>\n",
       "    </tr>\n",
       "    <tr>\n",
       "      <th>890</th>\n",
       "      <td>0</td>\n",
       "      <td>3</td>\n",
       "      <td>1</td>\n",
       "      <td>32.0</td>\n",
       "      <td>0</td>\n",
       "      <td>0</td>\n",
       "      <td>7.7500</td>\n",
       "      <td>2</td>\n",
       "    </tr>\n",
       "  </tbody>\n",
       "</table>\n",
       "<p>891 rows × 8 columns</p>\n",
       "</div>"
      ],
      "text/plain": [
       "     Survived  Pclass  Sex   Age  SibSp  Parch     Fare  Embarked\n",
       "0           0       3    1  22.0      1      0   7.2500         3\n",
       "1           1       1    0  38.0      1      0  71.2833         1\n",
       "2           1       3    0  26.0      0      0   7.9250         3\n",
       "3           1       1    0  35.0      1      0  53.1000         3\n",
       "4           0       3    1  35.0      0      0   8.0500         3\n",
       "..        ...     ...  ...   ...    ...    ...      ...       ...\n",
       "886         0       2    1  27.0      0      0  13.0000         3\n",
       "887         1       1    0  19.0      0      0  30.0000         3\n",
       "888         0       3    0  28.0      1      2  23.4500         3\n",
       "889         1       1    1  26.0      0      0  30.0000         1\n",
       "890         0       3    1  32.0      0      0   7.7500         2\n",
       "\n",
       "[891 rows x 8 columns]"
      ]
     },
     "execution_count": 134,
     "metadata": {},
     "output_type": "execute_result"
    }
   ],
   "source": [
    "data"
   ]
  },
  {
   "cell_type": "code",
   "execution_count": 135,
   "metadata": {},
   "outputs": [],
   "source": [
    "x = data.iloc[:,1:]"
   ]
  },
  {
   "cell_type": "code",
   "execution_count": 136,
   "metadata": {},
   "outputs": [],
   "source": [
    "y = data.iloc[:,0]"
   ]
  },
  {
   "cell_type": "code",
   "execution_count": 137,
   "metadata": {},
   "outputs": [
    {
     "name": "stdout",
     "output_type": "stream",
     "text": [
      "Best random state= 150\n"
     ]
    }
   ],
   "source": [
    "#finding best random state\n",
    "max_acc = 0\n",
    "max_rs = 0\n",
    "for i in range(1,200):\n",
    "    x_train, x_test, y_train, y_test = train_test_split(x,y,test_size = .22, random_state = i)\n",
    "    lr = LogisticRegression()\n",
    "    lr.fit(x_train, y_train)\n",
    "    pred = lr.predict(x_test)\n",
    "    acc = accuracy_score(y_test, pred)\n",
    "    if acc > max_acc:\n",
    "        max_acc = acc\n",
    "        max_rs = i\n",
    "print(\"Best random state=\",max_rs)"
   ]
  },
  {
   "cell_type": "code",
   "execution_count": 138,
   "metadata": {},
   "outputs": [],
   "source": [
    "#Best random state is 150 "
   ]
  },
  {
   "cell_type": "code",
   "execution_count": 139,
   "metadata": {},
   "outputs": [],
   "source": [
    "x_train, x_test, y_train, y_test = train_test_split(x,y,test_size = .22, random_state = i)"
   ]
  },
  {
   "cell_type": "code",
   "execution_count": 140,
   "metadata": {},
   "outputs": [
    {
     "name": "stdout",
     "output_type": "stream",
     "text": [
      "{'SVC': 0.6649746192893401, 'KNN': 0.649746192893401, 'RandomForest': 0.7766497461928934, 'LogisticRegression': 0.7868020304568528, 'naive': 0.751269035532995}\n"
     ]
    }
   ],
   "source": [
    "models = {\"SVC\":SVC(),\"KNN\":KNeighborsClassifier(), \"RandomForest\":RandomForestClassifier(),\"LogisticRegression\":LogisticRegression(), \"naive\":GaussianNB() }\n",
    "acc = {}\n",
    "mod_list = []\n",
    "for i in models:\n",
    "    mod = i\n",
    "    mod = models[i]\n",
    "    mod.fit(x_train, y_train)\n",
    "    pred = mod.predict(x_test)\n",
    "    sc = accuracy_score(y_test,pred)\n",
    "    acc[i] = sc\n",
    "    mod_list.append(mod)\n",
    "print(acc)"
   ]
  },
  {
   "cell_type": "code",
   "execution_count": 141,
   "metadata": {},
   "outputs": [],
   "source": [
    "#applying cross validation\n",
    "from sklearn.model_selection import cross_val_score"
   ]
  },
  {
   "cell_type": "code",
   "execution_count": 142,
   "metadata": {},
   "outputs": [
    {
     "name": "stdout",
     "output_type": "stream",
     "text": [
      "{'SVC()': 0.6723934898762655, 'KNeighborsClassifier()': 0.697052516872891, 'RandomForestClassifier()': 0.8081851096737908, 'LogisticRegression()': 0.7946164932508436, 'GaussianNB()': 0.7856615579302587}\n"
     ]
    }
   ],
   "source": [
    "cv_list = {}\n",
    "for i in mod_list:\n",
    "    cv = cross_val_score(i, x, y, cv=7)\n",
    "    cv_list[str(i)] = cv.mean()\n",
    "print(cv_list)"
   ]
  },
  {
   "cell_type": "markdown",
   "metadata": {},
   "source": [
    "<!DOCTYPE html>\n",
    "<html>\n",
    "<head>\n",
    "<style>\n",
    "table, th, td {\n",
    "  border: 1px solid black;\n",
    "}\n",
    "</style>\n",
    "</head>\n",
    "<body>\n",
    "\n",
    "\n",
    "<table style=\"width:100%\">\n",
    "  <tr>\n",
    "    <th>Algorithm</th>\n",
    "    <th>Accuracy</th> \n",
    "    <th>CV Accuracy</th>\n",
    "     <th>Difference</th>\n",
    "  </tr>\n",
    "  <tr style=\"color:green;\">\n",
    "    <td>SVC</td>\n",
    "    <td>0.665</td>\n",
    "    <td>0.672</td>\n",
    "      <td>0.007</td>\n",
    "  </tr>\n",
    "  <tr >\n",
    "    <td>KNN</td>\n",
    "    <td>0.650</td>\n",
    "    <td>0.697</td>\n",
    "      <td> 0.047</td>\n",
    "  </tr>\n",
    "  <tr>\n",
    "    <td>RandomForest</td>\n",
    "    <td>0.751</td>\n",
    "    <td>0.814</td>\n",
    "      <td>0.063</td>\n",
    "  </tr>\n",
    "    <tr>\n",
    "    <td>LogisticRegression</td>\n",
    "    <td>0.787</td>\n",
    "    <td>0.795</td>\n",
    "      <td>0.008</td>\n",
    "  </tr>\n",
    "    <tr>\n",
    "    <td>Naive Bayes</td>\n",
    "    <td>0.751</td>\n",
    "    <td>0.786</td>\n",
    "      <td>0.035</td>\n",
    "  </tr>\n",
    "</table>\n",
    "\n",
    "</body>\n",
    "</html>"
   ]
  },
  {
   "cell_type": "code",
   "execution_count": 143,
   "metadata": {},
   "outputs": [],
   "source": [
    "#Best algorithm is SVC"
   ]
  },
  {
   "cell_type": "markdown",
   "metadata": {},
   "source": [
    "### Hyper parameter tuning"
   ]
  },
  {
   "cell_type": "code",
   "execution_count": 144,
   "metadata": {},
   "outputs": [],
   "source": [
    "from sklearn.model_selection import GridSearchCV"
   ]
  },
  {
   "cell_type": "code",
   "execution_count": 155,
   "metadata": {},
   "outputs": [],
   "source": [
    "parameters = {'C': [0.1, 1, 10, 100, 1000],  \n",
    "              'gamma': [1, 0.1, 0.01, 0.001, 0.0001], \n",
    "              'kernel': ['rbf']}"
   ]
  },
  {
   "cell_type": "code",
   "execution_count": 156,
   "metadata": {},
   "outputs": [],
   "source": [
    "GCV = GridSearchCV(SVC(), parameters, cv=5)"
   ]
  },
  {
   "cell_type": "code",
   "execution_count": 157,
   "metadata": {},
   "outputs": [
    {
     "data": {
      "text/plain": [
       "GridSearchCV(cv=5, estimator=SVC(),\n",
       "             param_grid={'C': [0.1, 1, 10, 100, 1000],\n",
       "                         'gamma': [1, 0.1, 0.01, 0.001, 0.0001],\n",
       "                         'kernel': ['rbf']})"
      ]
     },
     "execution_count": 157,
     "metadata": {},
     "output_type": "execute_result"
    }
   ],
   "source": [
    "GCV.fit(x_train, y_train)"
   ]
  },
  {
   "cell_type": "code",
   "execution_count": 158,
   "metadata": {},
   "outputs": [
    {
     "data": {
      "text/plain": [
       "{'C': 100, 'gamma': 0.001, 'kernel': 'rbf'}"
      ]
     },
     "execution_count": 158,
     "metadata": {},
     "output_type": "execute_result"
    }
   ],
   "source": [
    "GCV.best_params_"
   ]
  },
  {
   "cell_type": "code",
   "execution_count": 159,
   "metadata": {},
   "outputs": [],
   "source": [
    "GCV_predict = GCV.best_estimator_.predict(x_test)"
   ]
  },
  {
   "cell_type": "code",
   "execution_count": 160,
   "metadata": {},
   "outputs": [
    {
     "data": {
      "text/plain": [
       "0.7614213197969543"
      ]
     },
     "execution_count": 160,
     "metadata": {},
     "output_type": "execute_result"
    }
   ],
   "source": [
    "accuracy_score(y_test, GCV_predict)"
   ]
  },
  {
   "cell_type": "code",
   "execution_count": 161,
   "metadata": {},
   "outputs": [],
   "source": [
    "import joblib"
   ]
  },
  {
   "cell_type": "code",
   "execution_count": 162,
   "metadata": {},
   "outputs": [
    {
     "data": {
      "text/plain": [
       "['Titanic.obj']"
      ]
     },
     "execution_count": 162,
     "metadata": {},
     "output_type": "execute_result"
    }
   ],
   "source": [
    "joblib.dump(GCV.best_estimator_, \"Titanic.obj\")"
   ]
  }
 ],
 "metadata": {
  "kernelspec": {
   "display_name": "Python 3",
   "language": "python",
   "name": "python3"
  },
  "language_info": {
   "codemirror_mode": {
    "name": "ipython",
    "version": 3
   },
   "file_extension": ".py",
   "mimetype": "text/x-python",
   "name": "python",
   "nbconvert_exporter": "python",
   "pygments_lexer": "ipython3",
   "version": "3.8.3"
  }
 },
 "nbformat": 4,
 "nbformat_minor": 4
}
