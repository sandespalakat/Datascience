{
 "cells": [
  {
   "cell_type": "markdown",
   "metadata": {},
   "source": [
    "# Advertising Sales Channel Prediction "
   ]
  },
  {
   "cell_type": "markdown",
   "metadata": {},
   "source": [
    "Problem statement:\n",
    "When a company enters a market, the distribution strategy and channel it uses are keys to its success in the market, as well as market know-how and customer knowledge and understanding. Because an effective distribution strategy under efficient supply-chain management opens doors for attaining competitive advantage and strong brand equity in the market, it is a component of the marketing mix that cannot be ignored . \n",
    "\n",
    "The distribution strategy and the channel design have to be right the first time. The case study of Sales channel includes the detailed study of TV, radio and newspaper channel. The company has to select proper sales channel to predict the right sales channel to generate good revenue. "
   ]
  },
  {
   "cell_type": "code",
   "execution_count": 41,
   "metadata": {},
   "outputs": [],
   "source": [
    "import numpy as np\n",
    "import pandas as pd\n",
    "import matplotlib.pyplot as plt\n",
    "import seaborn as sns\n",
    "from sklearn.linear_model import LinearRegression\n",
    "from sklearn.tree import DecisionTreeRegressor\n",
    "from sklearn.svm import SVR\n",
    "from sklearn.neighbors import KNeighborsRegressor\n",
    "from sklearn.ensemble import RandomForestRegressor\n",
    "from sklearn.linear_model import Ridge\n",
    "from sklearn.metrics import r2_score, mean_absolute_error, mean_squared_error\n",
    "from sklearn.model_selection import train_test_split"
   ]
  },
  {
   "cell_type": "code",
   "execution_count": 42,
   "metadata": {},
   "outputs": [],
   "source": [
    "data = pd.read_csv(\"https://raw.githubusercontent.com/sandespalakat/Datascience/main/Advertising-Sales-Channel-Prediction/Data/adverstising.csv\")"
   ]
  },
  {
   "cell_type": "code",
   "execution_count": 43,
   "metadata": {},
   "outputs": [
    {
     "data": {
      "text/html": [
       "<div>\n",
       "<style scoped>\n",
       "    .dataframe tbody tr th:only-of-type {\n",
       "        vertical-align: middle;\n",
       "    }\n",
       "\n",
       "    .dataframe tbody tr th {\n",
       "        vertical-align: top;\n",
       "    }\n",
       "\n",
       "    .dataframe thead th {\n",
       "        text-align: right;\n",
       "    }\n",
       "</style>\n",
       "<table border=\"1\" class=\"dataframe\">\n",
       "  <thead>\n",
       "    <tr style=\"text-align: right;\">\n",
       "      <th></th>\n",
       "      <th>Unnamed: 0</th>\n",
       "      <th>TV</th>\n",
       "      <th>radio</th>\n",
       "      <th>newspaper</th>\n",
       "      <th>sales</th>\n",
       "    </tr>\n",
       "  </thead>\n",
       "  <tbody>\n",
       "    <tr>\n",
       "      <th>0</th>\n",
       "      <td>1</td>\n",
       "      <td>230.1</td>\n",
       "      <td>37.8</td>\n",
       "      <td>69.2</td>\n",
       "      <td>22.1</td>\n",
       "    </tr>\n",
       "    <tr>\n",
       "      <th>1</th>\n",
       "      <td>2</td>\n",
       "      <td>44.5</td>\n",
       "      <td>39.3</td>\n",
       "      <td>45.1</td>\n",
       "      <td>10.4</td>\n",
       "    </tr>\n",
       "    <tr>\n",
       "      <th>2</th>\n",
       "      <td>3</td>\n",
       "      <td>17.2</td>\n",
       "      <td>45.9</td>\n",
       "      <td>69.3</td>\n",
       "      <td>9.3</td>\n",
       "    </tr>\n",
       "    <tr>\n",
       "      <th>3</th>\n",
       "      <td>4</td>\n",
       "      <td>151.5</td>\n",
       "      <td>41.3</td>\n",
       "      <td>58.5</td>\n",
       "      <td>18.5</td>\n",
       "    </tr>\n",
       "    <tr>\n",
       "      <th>4</th>\n",
       "      <td>5</td>\n",
       "      <td>180.8</td>\n",
       "      <td>10.8</td>\n",
       "      <td>58.4</td>\n",
       "      <td>12.9</td>\n",
       "    </tr>\n",
       "    <tr>\n",
       "      <th>...</th>\n",
       "      <td>...</td>\n",
       "      <td>...</td>\n",
       "      <td>...</td>\n",
       "      <td>...</td>\n",
       "      <td>...</td>\n",
       "    </tr>\n",
       "    <tr>\n",
       "      <th>195</th>\n",
       "      <td>196</td>\n",
       "      <td>38.2</td>\n",
       "      <td>3.7</td>\n",
       "      <td>13.8</td>\n",
       "      <td>7.6</td>\n",
       "    </tr>\n",
       "    <tr>\n",
       "      <th>196</th>\n",
       "      <td>197</td>\n",
       "      <td>94.2</td>\n",
       "      <td>4.9</td>\n",
       "      <td>8.1</td>\n",
       "      <td>9.7</td>\n",
       "    </tr>\n",
       "    <tr>\n",
       "      <th>197</th>\n",
       "      <td>198</td>\n",
       "      <td>177.0</td>\n",
       "      <td>9.3</td>\n",
       "      <td>6.4</td>\n",
       "      <td>12.8</td>\n",
       "    </tr>\n",
       "    <tr>\n",
       "      <th>198</th>\n",
       "      <td>199</td>\n",
       "      <td>283.6</td>\n",
       "      <td>42.0</td>\n",
       "      <td>66.2</td>\n",
       "      <td>25.5</td>\n",
       "    </tr>\n",
       "    <tr>\n",
       "      <th>199</th>\n",
       "      <td>200</td>\n",
       "      <td>232.1</td>\n",
       "      <td>8.6</td>\n",
       "      <td>8.7</td>\n",
       "      <td>13.4</td>\n",
       "    </tr>\n",
       "  </tbody>\n",
       "</table>\n",
       "<p>200 rows × 5 columns</p>\n",
       "</div>"
      ],
      "text/plain": [
       "     Unnamed: 0     TV  radio  newspaper  sales\n",
       "0             1  230.1   37.8       69.2   22.1\n",
       "1             2   44.5   39.3       45.1   10.4\n",
       "2             3   17.2   45.9       69.3    9.3\n",
       "3             4  151.5   41.3       58.5   18.5\n",
       "4             5  180.8   10.8       58.4   12.9\n",
       "..          ...    ...    ...        ...    ...\n",
       "195         196   38.2    3.7       13.8    7.6\n",
       "196         197   94.2    4.9        8.1    9.7\n",
       "197         198  177.0    9.3        6.4   12.8\n",
       "198         199  283.6   42.0       66.2   25.5\n",
       "199         200  232.1    8.6        8.7   13.4\n",
       "\n",
       "[200 rows x 5 columns]"
      ]
     },
     "execution_count": 43,
     "metadata": {},
     "output_type": "execute_result"
    }
   ],
   "source": [
    "data"
   ]
  },
  {
   "cell_type": "code",
   "execution_count": 44,
   "metadata": {},
   "outputs": [],
   "source": [
    "data = data.iloc[:,1:]"
   ]
  },
  {
   "cell_type": "code",
   "execution_count": 45,
   "metadata": {},
   "outputs": [
    {
     "data": {
      "text/html": [
       "<div>\n",
       "<style scoped>\n",
       "    .dataframe tbody tr th:only-of-type {\n",
       "        vertical-align: middle;\n",
       "    }\n",
       "\n",
       "    .dataframe tbody tr th {\n",
       "        vertical-align: top;\n",
       "    }\n",
       "\n",
       "    .dataframe thead th {\n",
       "        text-align: right;\n",
       "    }\n",
       "</style>\n",
       "<table border=\"1\" class=\"dataframe\">\n",
       "  <thead>\n",
       "    <tr style=\"text-align: right;\">\n",
       "      <th></th>\n",
       "      <th>TV</th>\n",
       "      <th>radio</th>\n",
       "      <th>newspaper</th>\n",
       "      <th>sales</th>\n",
       "    </tr>\n",
       "  </thead>\n",
       "  <tbody>\n",
       "    <tr>\n",
       "      <th>0</th>\n",
       "      <td>230.1</td>\n",
       "      <td>37.8</td>\n",
       "      <td>69.2</td>\n",
       "      <td>22.1</td>\n",
       "    </tr>\n",
       "    <tr>\n",
       "      <th>1</th>\n",
       "      <td>44.5</td>\n",
       "      <td>39.3</td>\n",
       "      <td>45.1</td>\n",
       "      <td>10.4</td>\n",
       "    </tr>\n",
       "    <tr>\n",
       "      <th>2</th>\n",
       "      <td>17.2</td>\n",
       "      <td>45.9</td>\n",
       "      <td>69.3</td>\n",
       "      <td>9.3</td>\n",
       "    </tr>\n",
       "    <tr>\n",
       "      <th>3</th>\n",
       "      <td>151.5</td>\n",
       "      <td>41.3</td>\n",
       "      <td>58.5</td>\n",
       "      <td>18.5</td>\n",
       "    </tr>\n",
       "    <tr>\n",
       "      <th>4</th>\n",
       "      <td>180.8</td>\n",
       "      <td>10.8</td>\n",
       "      <td>58.4</td>\n",
       "      <td>12.9</td>\n",
       "    </tr>\n",
       "    <tr>\n",
       "      <th>...</th>\n",
       "      <td>...</td>\n",
       "      <td>...</td>\n",
       "      <td>...</td>\n",
       "      <td>...</td>\n",
       "    </tr>\n",
       "    <tr>\n",
       "      <th>195</th>\n",
       "      <td>38.2</td>\n",
       "      <td>3.7</td>\n",
       "      <td>13.8</td>\n",
       "      <td>7.6</td>\n",
       "    </tr>\n",
       "    <tr>\n",
       "      <th>196</th>\n",
       "      <td>94.2</td>\n",
       "      <td>4.9</td>\n",
       "      <td>8.1</td>\n",
       "      <td>9.7</td>\n",
       "    </tr>\n",
       "    <tr>\n",
       "      <th>197</th>\n",
       "      <td>177.0</td>\n",
       "      <td>9.3</td>\n",
       "      <td>6.4</td>\n",
       "      <td>12.8</td>\n",
       "    </tr>\n",
       "    <tr>\n",
       "      <th>198</th>\n",
       "      <td>283.6</td>\n",
       "      <td>42.0</td>\n",
       "      <td>66.2</td>\n",
       "      <td>25.5</td>\n",
       "    </tr>\n",
       "    <tr>\n",
       "      <th>199</th>\n",
       "      <td>232.1</td>\n",
       "      <td>8.6</td>\n",
       "      <td>8.7</td>\n",
       "      <td>13.4</td>\n",
       "    </tr>\n",
       "  </tbody>\n",
       "</table>\n",
       "<p>200 rows × 4 columns</p>\n",
       "</div>"
      ],
      "text/plain": [
       "        TV  radio  newspaper  sales\n",
       "0    230.1   37.8       69.2   22.1\n",
       "1     44.5   39.3       45.1   10.4\n",
       "2     17.2   45.9       69.3    9.3\n",
       "3    151.5   41.3       58.5   18.5\n",
       "4    180.8   10.8       58.4   12.9\n",
       "..     ...    ...        ...    ...\n",
       "195   38.2    3.7       13.8    7.6\n",
       "196   94.2    4.9        8.1    9.7\n",
       "197  177.0    9.3        6.4   12.8\n",
       "198  283.6   42.0       66.2   25.5\n",
       "199  232.1    8.6        8.7   13.4\n",
       "\n",
       "[200 rows x 4 columns]"
      ]
     },
     "execution_count": 45,
     "metadata": {},
     "output_type": "execute_result"
    }
   ],
   "source": [
    "data"
   ]
  },
  {
   "cell_type": "code",
   "execution_count": 46,
   "metadata": {},
   "outputs": [
    {
     "data": {
      "text/html": [
       "<div>\n",
       "<style scoped>\n",
       "    .dataframe tbody tr th:only-of-type {\n",
       "        vertical-align: middle;\n",
       "    }\n",
       "\n",
       "    .dataframe tbody tr th {\n",
       "        vertical-align: top;\n",
       "    }\n",
       "\n",
       "    .dataframe thead th {\n",
       "        text-align: right;\n",
       "    }\n",
       "</style>\n",
       "<table border=\"1\" class=\"dataframe\">\n",
       "  <thead>\n",
       "    <tr style=\"text-align: right;\">\n",
       "      <th></th>\n",
       "      <th>TV</th>\n",
       "      <th>radio</th>\n",
       "      <th>newspaper</th>\n",
       "      <th>sales</th>\n",
       "    </tr>\n",
       "  </thead>\n",
       "  <tbody>\n",
       "    <tr>\n",
       "      <th>count</th>\n",
       "      <td>200.000000</td>\n",
       "      <td>200.000000</td>\n",
       "      <td>200.000000</td>\n",
       "      <td>200.000000</td>\n",
       "    </tr>\n",
       "    <tr>\n",
       "      <th>mean</th>\n",
       "      <td>147.042500</td>\n",
       "      <td>23.264000</td>\n",
       "      <td>30.554000</td>\n",
       "      <td>14.022500</td>\n",
       "    </tr>\n",
       "    <tr>\n",
       "      <th>std</th>\n",
       "      <td>85.854236</td>\n",
       "      <td>14.846809</td>\n",
       "      <td>21.778621</td>\n",
       "      <td>5.217457</td>\n",
       "    </tr>\n",
       "    <tr>\n",
       "      <th>min</th>\n",
       "      <td>0.700000</td>\n",
       "      <td>0.000000</td>\n",
       "      <td>0.300000</td>\n",
       "      <td>1.600000</td>\n",
       "    </tr>\n",
       "    <tr>\n",
       "      <th>25%</th>\n",
       "      <td>74.375000</td>\n",
       "      <td>9.975000</td>\n",
       "      <td>12.750000</td>\n",
       "      <td>10.375000</td>\n",
       "    </tr>\n",
       "    <tr>\n",
       "      <th>50%</th>\n",
       "      <td>149.750000</td>\n",
       "      <td>22.900000</td>\n",
       "      <td>25.750000</td>\n",
       "      <td>12.900000</td>\n",
       "    </tr>\n",
       "    <tr>\n",
       "      <th>75%</th>\n",
       "      <td>218.825000</td>\n",
       "      <td>36.525000</td>\n",
       "      <td>45.100000</td>\n",
       "      <td>17.400000</td>\n",
       "    </tr>\n",
       "    <tr>\n",
       "      <th>max</th>\n",
       "      <td>296.400000</td>\n",
       "      <td>49.600000</td>\n",
       "      <td>114.000000</td>\n",
       "      <td>27.000000</td>\n",
       "    </tr>\n",
       "  </tbody>\n",
       "</table>\n",
       "</div>"
      ],
      "text/plain": [
       "               TV       radio   newspaper       sales\n",
       "count  200.000000  200.000000  200.000000  200.000000\n",
       "mean   147.042500   23.264000   30.554000   14.022500\n",
       "std     85.854236   14.846809   21.778621    5.217457\n",
       "min      0.700000    0.000000    0.300000    1.600000\n",
       "25%     74.375000    9.975000   12.750000   10.375000\n",
       "50%    149.750000   22.900000   25.750000   12.900000\n",
       "75%    218.825000   36.525000   45.100000   17.400000\n",
       "max    296.400000   49.600000  114.000000   27.000000"
      ]
     },
     "execution_count": 46,
     "metadata": {},
     "output_type": "execute_result"
    }
   ],
   "source": [
    "data.describe()"
   ]
  },
  {
   "cell_type": "code",
   "execution_count": 47,
   "metadata": {},
   "outputs": [
    {
     "data": {
      "text/plain": [
       "<matplotlib.axes._subplots.AxesSubplot at 0x175a5fdaa90>"
      ]
     },
     "execution_count": 47,
     "metadata": {},
     "output_type": "execute_result"
    },
    {
     "data": {
      "image/png": "[encoded data removed]",
      "text/plain": [
       "<Figure size 432x288 with 1 Axes>"
      ]
     },
     "metadata": {
      "needs_background": "light"
     },
     "output_type": "display_data"
    }
   ],
   "source": [
    "data.plot(kind=\"box\")"
   ]
  },
  {
   "cell_type": "code",
   "execution_count": 48,
   "metadata": {},
   "outputs": [],
   "source": [
    "#There is some outliers in newspaper column, since it is only 1% we can neglet it"
   ]
  },
  {
   "cell_type": "code",
   "execution_count": 49,
   "metadata": {},
   "outputs": [
    {
     "data": {
      "text/plain": [
       "<matplotlib.axes._subplots.AxesSubplot at 0x175a49ebc70>"
      ]
     },
     "execution_count": 49,
     "metadata": {},
     "output_type": "execute_result"
    },
    {
     "data": {
      "image/png": "[encoded data removed]",
      "text/plain": [
       "<Figure size 432x288 with 2 Axes>"
      ]
     },
     "metadata": {
      "needs_background": "light"
     },
     "output_type": "display_data"
    }
   ],
   "source": [
    "sns.heatmap(data.isnull())"
   ]
  },
  {
   "cell_type": "code",
   "execution_count": 50,
   "metadata": {},
   "outputs": [],
   "source": [
    "#no null values"
   ]
  },
  {
   "cell_type": "code",
   "execution_count": 51,
   "metadata": {},
   "outputs": [
    {
     "name": "stderr",
     "output_type": "stream",
     "text": [
      "D:\\PROGRAM_FILES\\Anaconda\\lib\\site-packages\\seaborn\\_decorators.py:36: FutureWarning: Pass the following variables as keyword args: x, y. From version 0.12, the only valid positional argument will be `data`, and passing other arguments without an explicit keyword will result in an error or misinterpretation.\n",
      "  warnings.warn(\n"
     ]
    },
    {
     "data": {
      "text/plain": [
       "<matplotlib.axes._subplots.AxesSubplot at 0x175a5e8daf0>"
      ]
     },
     "execution_count": 51,
     "metadata": {},
     "output_type": "execute_result"
    },
    {
     "data": {
      "image/png": "[encoded data removed]",
      "text/plain": [
       "<Figure size 432x288 with 1 Axes>"
      ]
     },
     "metadata": {
      "needs_background": "light"
     },
     "output_type": "display_data"
    }
   ],
   "source": [
    "sns.scatterplot(data[\"TV\"], data[\"sales\"])"
   ]
  },
  {
   "cell_type": "code",
   "execution_count": 52,
   "metadata": {},
   "outputs": [],
   "source": [
    "#TV is positivley correlated with sales"
   ]
  },
  {
   "cell_type": "code",
   "execution_count": 53,
   "metadata": {},
   "outputs": [
    {
     "name": "stderr",
     "output_type": "stream",
     "text": [
      "D:\\PROGRAM_FILES\\Anaconda\\lib\\site-packages\\seaborn\\_decorators.py:36: FutureWarning: Pass the following variables as keyword args: x, y. From version 0.12, the only valid positional argument will be `data`, and passing other arguments without an explicit keyword will result in an error or misinterpretation.\n",
      "  warnings.warn(\n"
     ]
    },
    {
     "data": {
      "text/plain": [
       "<matplotlib.axes._subplots.AxesSubplot at 0x175a5fe8280>"
      ]
     },
     "execution_count": 53,
     "metadata": {},
     "output_type": "execute_result"
    },
    {
     "data": {
      "image/png": "[encoded data removed]",
      "text/plain": [
       "<Figure size 432x288 with 1 Axes>"
      ]
     },
     "metadata": {
      "needs_background": "light"
     },
     "output_type": "display_data"
    }
   ],
   "source": [
    "sns.scatterplot(data[\"radio\"], data[\"sales\"])"
   ]
  },
  {
   "cell_type": "code",
   "execution_count": 54,
   "metadata": {},
   "outputs": [
    {
     "name": "stderr",
     "output_type": "stream",
     "text": [
      "D:\\PROGRAM_FILES\\Anaconda\\lib\\site-packages\\seaborn\\_decorators.py:36: FutureWarning: Pass the following variables as keyword args: x, y. From version 0.12, the only valid positional argument will be `data`, and passing other arguments without an explicit keyword will result in an error or misinterpretation.\n",
      "  warnings.warn(\n"
     ]
    },
    {
     "data": {
      "text/plain": [
       "<matplotlib.axes._subplots.AxesSubplot at 0x175a62eb0d0>"
      ]
     },
     "execution_count": 54,
     "metadata": {},
     "output_type": "execute_result"
    },
    {
     "data": {
      "image/png": "[encoded data removed]",
      "text/plain": [
       "<Figure size 432x288 with 1 Axes>"
      ]
     },
     "metadata": {
      "needs_background": "light"
     },
     "output_type": "display_data"
    }
   ],
   "source": [
    "sns.scatterplot(data[\"newspaper\"], data[\"sales\"])"
   ]
  },
  {
   "cell_type": "code",
   "execution_count": 55,
   "metadata": {},
   "outputs": [
    {
     "data": {
      "text/plain": [
       "<seaborn.axisgrid.PairGrid at 0x175a6390040>"
      ]
     },
     "execution_count": 55,
     "metadata": {},
     "output_type": "execute_result"
    },
    {
     "data": {
      "image/png": "[encoded data removed]",
      "text/plain": [
       "<Figure size 720x720 with 20 Axes>"
      ]
     },
     "metadata": {
      "needs_background": "light"
     },
     "output_type": "display_data"
    }
   ],
   "source": [
    "sns.pairplot(data)"
   ]
  },
  {
   "cell_type": "code",
   "execution_count": 56,
   "metadata": {},
   "outputs": [
    {
     "data": {
      "text/plain": [
       "TV          -0.069853\n",
       "radio        0.094175\n",
       "newspaper    0.894720\n",
       "sales        0.407571\n",
       "dtype: float64"
      ]
     },
     "execution_count": 56,
     "metadata": {},
     "output_type": "execute_result"
    }
   ],
   "source": [
    "data.skew()"
   ]
  },
  {
   "cell_type": "code",
   "execution_count": 57,
   "metadata": {},
   "outputs": [
    {
     "data": {
      "text/plain": [
       "array([<matplotlib.axes._subplots.AxesSubplot object at 0x00000175A6FC9160>,\n",
       "       <matplotlib.axes._subplots.AxesSubplot object at 0x00000175A6F9EC40>,\n",
       "       <matplotlib.axes._subplots.AxesSubplot object at 0x00000175A7207AF0>,\n",
       "       <matplotlib.axes._subplots.AxesSubplot object at 0x00000175A723D0D0>],\n",
       "      dtype=object)"
      ]
     },
     "execution_count": 57,
     "metadata": {},
     "output_type": "execute_result"
    },
    {
     "data": {
      "image/png": "[encoded data removed]",
      "text/plain": [
       "<Figure size 432x288 with 4 Axes>"
      ]
     },
     "metadata": {
      "needs_background": "light"
     },
     "output_type": "display_data"
    }
   ],
   "source": [
    "data.plot(kind=\"density\", subplots=True)"
   ]
  },
  {
   "cell_type": "code",
   "execution_count": 58,
   "metadata": {},
   "outputs": [],
   "source": [
    "#We have slew in newspaper data set"
   ]
  },
  {
   "cell_type": "code",
   "execution_count": 59,
   "metadata": {},
   "outputs": [],
   "source": [
    "from sklearn.preprocessing import PowerTransformer"
   ]
  },
  {
   "cell_type": "code",
   "execution_count": 60,
   "metadata": {},
   "outputs": [],
   "source": [
    "pt = PowerTransformer()"
   ]
  },
  {
   "cell_type": "code",
   "execution_count": 61,
   "metadata": {},
   "outputs": [
    {
     "data": {
      "text/plain": [
       "PowerTransformer()"
      ]
     },
     "execution_count": 61,
     "metadata": {},
     "output_type": "execute_result"
    }
   ],
   "source": [
    "pt.fit(np.array(data[\"newspaper\"]).reshape(-1,1))"
   ]
  },
  {
   "cell_type": "code",
   "execution_count": 62,
   "metadata": {},
   "outputs": [],
   "source": [
    "data[\"newspaper\"] = pt.transform(np.array(data[\"newspaper\"]).reshape(-1,1))"
   ]
  },
  {
   "cell_type": "code",
   "execution_count": 63,
   "metadata": {},
   "outputs": [
    {
     "data": {
      "text/html": [
       "<div>\n",
       "<style scoped>\n",
       "    .dataframe tbody tr th:only-of-type {\n",
       "        vertical-align: middle;\n",
       "    }\n",
       "\n",
       "    .dataframe tbody tr th {\n",
       "        vertical-align: top;\n",
       "    }\n",
       "\n",
       "    .dataframe thead th {\n",
       "        text-align: right;\n",
       "    }\n",
       "</style>\n",
       "<table border=\"1\" class=\"dataframe\">\n",
       "  <thead>\n",
       "    <tr style=\"text-align: right;\">\n",
       "      <th></th>\n",
       "      <th>TV</th>\n",
       "      <th>radio</th>\n",
       "      <th>newspaper</th>\n",
       "      <th>sales</th>\n",
       "    </tr>\n",
       "  </thead>\n",
       "  <tbody>\n",
       "    <tr>\n",
       "      <th>0</th>\n",
       "      <td>230.1</td>\n",
       "      <td>37.8</td>\n",
       "      <td>1.514335</td>\n",
       "      <td>22.1</td>\n",
       "    </tr>\n",
       "    <tr>\n",
       "      <th>1</th>\n",
       "      <td>44.5</td>\n",
       "      <td>39.3</td>\n",
       "      <td>0.787683</td>\n",
       "      <td>10.4</td>\n",
       "    </tr>\n",
       "    <tr>\n",
       "      <th>2</th>\n",
       "      <td>17.2</td>\n",
       "      <td>45.9</td>\n",
       "      <td>1.516998</td>\n",
       "      <td>9.3</td>\n",
       "    </tr>\n",
       "    <tr>\n",
       "      <th>3</th>\n",
       "      <td>151.5</td>\n",
       "      <td>41.3</td>\n",
       "      <td>1.214656</td>\n",
       "      <td>18.5</td>\n",
       "    </tr>\n",
       "    <tr>\n",
       "      <th>4</th>\n",
       "      <td>180.8</td>\n",
       "      <td>10.8</td>\n",
       "      <td>1.211704</td>\n",
       "      <td>12.9</td>\n",
       "    </tr>\n",
       "    <tr>\n",
       "      <th>...</th>\n",
       "      <td>...</td>\n",
       "      <td>...</td>\n",
       "      <td>...</td>\n",
       "      <td>...</td>\n",
       "    </tr>\n",
       "    <tr>\n",
       "      <th>195</th>\n",
       "      <td>38.2</td>\n",
       "      <td>3.7</td>\n",
       "      <td>-0.682576</td>\n",
       "      <td>7.6</td>\n",
       "    </tr>\n",
       "    <tr>\n",
       "      <th>196</th>\n",
       "      <td>94.2</td>\n",
       "      <td>4.9</td>\n",
       "      <td>-1.142011</td>\n",
       "      <td>9.7</td>\n",
       "    </tr>\n",
       "    <tr>\n",
       "      <th>197</th>\n",
       "      <td>177.0</td>\n",
       "      <td>9.3</td>\n",
       "      <td>-1.313050</td>\n",
       "      <td>12.8</td>\n",
       "    </tr>\n",
       "    <tr>\n",
       "      <th>198</th>\n",
       "      <td>283.6</td>\n",
       "      <td>42.0</td>\n",
       "      <td>1.433350</td>\n",
       "      <td>25.5</td>\n",
       "    </tr>\n",
       "    <tr>\n",
       "      <th>199</th>\n",
       "      <td>232.1</td>\n",
       "      <td>8.6</td>\n",
       "      <td>-1.086425</td>\n",
       "      <td>13.4</td>\n",
       "    </tr>\n",
       "  </tbody>\n",
       "</table>\n",
       "<p>200 rows × 4 columns</p>\n",
       "</div>"
      ],
      "text/plain": [
       "        TV  radio  newspaper  sales\n",
       "0    230.1   37.8   1.514335   22.1\n",
       "1     44.5   39.3   0.787683   10.4\n",
       "2     17.2   45.9   1.516998    9.3\n",
       "3    151.5   41.3   1.214656   18.5\n",
       "4    180.8   10.8   1.211704   12.9\n",
       "..     ...    ...        ...    ...\n",
       "195   38.2    3.7  -0.682576    7.6\n",
       "196   94.2    4.9  -1.142011    9.7\n",
       "197  177.0    9.3  -1.313050   12.8\n",
       "198  283.6   42.0   1.433350   25.5\n",
       "199  232.1    8.6  -1.086425   13.4\n",
       "\n",
       "[200 rows x 4 columns]"
      ]
     },
     "execution_count": 63,
     "metadata": {},
     "output_type": "execute_result"
    }
   ],
   "source": [
    "data"
   ]
  },
  {
   "cell_type": "code",
   "execution_count": 64,
   "metadata": {},
   "outputs": [
    {
     "data": {
      "text/plain": [
       "<matplotlib.axes._subplots.AxesSubplot at 0x175a6e8b3a0>"
      ]
     },
     "execution_count": 64,
     "metadata": {},
     "output_type": "execute_result"
    },
    {
     "data": {
      "image/png": "[encoded data removed]",
      "text/plain": [
       "<Figure size 432x288 with 1 Axes>"
      ]
     },
     "metadata": {
      "needs_background": "light"
     },
     "output_type": "display_data"
    }
   ],
   "source": [
    "data[\"newspaper\"].plot(kind=\"density\")"
   ]
  },
  {
   "cell_type": "code",
   "execution_count": 65,
   "metadata": {},
   "outputs": [],
   "source": [
    "#skewness is removed"
   ]
  },
  {
   "cell_type": "code",
   "execution_count": 66,
   "metadata": {},
   "outputs": [],
   "source": [
    "x = data.iloc[:,:-1]"
   ]
  },
  {
   "cell_type": "code",
   "execution_count": 67,
   "metadata": {},
   "outputs": [],
   "source": [
    "y = data.iloc[:,-1]"
   ]
  },
  {
   "cell_type": "code",
   "execution_count": null,
   "metadata": {},
   "outputs": [],
   "source": []
  },
  {
   "cell_type": "code",
   "execution_count": 68,
   "metadata": {},
   "outputs": [],
   "source": [
    "# the newspaper data range is very small compared to the other columns. So, we have to scale the Tv and Radio columns"
   ]
  },
  {
   "cell_type": "code",
   "execution_count": 69,
   "metadata": {},
   "outputs": [],
   "source": [
    "from sklearn.preprocessing import MinMaxScaler"
   ]
  },
  {
   "cell_type": "code",
   "execution_count": 70,
   "metadata": {},
   "outputs": [
    {
     "name": "stdout",
     "output_type": "stream",
     "text": [
      "MinMaxScaler(feature_range=(1, 10))\n"
     ]
    }
   ],
   "source": [
    "scaler = MinMaxScaler(feature_range=(1,10))\n",
    "print(scaler.fit(x))"
   ]
  },
  {
   "cell_type": "code",
   "execution_count": 71,
   "metadata": {},
   "outputs": [
    {
     "data": {
      "text/plain": [
       "array([296.4       ,  49.6       ,   2.52943514])"
      ]
     },
     "execution_count": 71,
     "metadata": {},
     "output_type": "execute_result"
    }
   ],
   "source": [
    "scaler.data_max_"
   ]
  },
  {
   "cell_type": "code",
   "execution_count": 72,
   "metadata": {},
   "outputs": [],
   "source": [
    "x = scaler.transform(x)"
   ]
  },
  {
   "cell_type": "code",
   "execution_count": 73,
   "metadata": {},
   "outputs": [
    {
     "data": {
      "text/plain": [
       "array([[ 7.98207643,  7.85887097,  8.11792394],\n",
       "       [ 2.33310788,  8.13104839,  6.7706517 ],\n",
       "       [ 1.50219817,  9.32862903,  8.1228599 ],\n",
       "       [ 5.58978695,  8.49395161,  7.56229539],\n",
       "       [ 6.48156916,  2.95967742,  7.55682131],\n",
       "       [ 1.24349002,  9.87298387,  8.39731194],\n",
       "       [ 2.72877917,  6.9516129 ,  5.1104419 ],\n",
       "       [ 4.63713223,  4.55645161,  3.74520897],\n",
       "       [ 1.2404464 ,  1.38104839,  1.35622111],\n",
       "       [ 7.05985796,  1.47177419,  4.8856339 ],\n",
       "       [ 2.99053094,  2.05241935,  5.17624678],\n",
       "       [ 7.51335813,  5.35483871,  2.33884207],\n",
       "       [ 1.70307744,  7.36895161,  7.95252879],\n",
       "       [ 3.94622929,  2.37903226,  3.03003173],\n",
       "       [ 7.19073385,  6.96975806,  6.82798592],\n",
       "       [ 6.92593845,  9.65524194,  7.24648444],\n",
       "       [ 3.04227257,  7.64112903, 10.        ],\n",
       "       [ 9.54345621,  8.18548387,  7.41244205],\n",
       "       [ 3.08488333,  4.71975806,  4.58053356],\n",
       "       [ 5.46195468,  5.33669355,  4.6673874 ],\n",
       "       [ 7.62597227,  6.02620968,  7.27548603],\n",
       "       [ 8.20426108,  1.92540323,  5.1104419 ],\n",
       "       [ 1.38045316,  3.88508065,  7.05075657],\n",
       "       [ 7.92729117,  4.06653226,  5.35823338],\n",
       "       [ 2.87487318,  3.28629032,  4.58053356],\n",
       "       [ 8.98038553,  1.63508065,  4.71001185],\n",
       "       [ 5.32803517,  6.31653226,  3.88504478],\n",
       "       [ 8.28643896,  4.03024194,  5.05310374],\n",
       "       [ 8.55123436,  5.91733871,  5.05310374],\n",
       "       [ 3.12749408,  3.90322581,  6.48667651],\n",
       "       [ 9.89347311,  6.13508065,  6.64729252],\n",
       "       [ 4.41494758,  4.15725806,  6.3343427 ],\n",
       "       [ 3.93709841,  1.27217742,  5.68237519],\n",
       "       [ 9.06256341,  4.62903226,  1.        ],\n",
       "       [ 3.89144403,  1.25403226,  3.0671351 ],\n",
       "       [ 9.82651336,  1.74395161,  3.26200362],\n",
       "       [ 9.10213054,  8.94758065,  2.57859359],\n",
       "       [ 3.25228272,  9.96370968,  6.80895073],\n",
       "       [ 2.29049713,  5.84475806,  6.08077807],\n",
       "       [ 7.9181603 ,  7.84072581,  5.84313105],\n",
       "       [ 7.14203585,  5.04637097,  5.81147325],\n",
       "       [ 6.3659114 ,  7.06048387,  6.34137921],\n",
       "       [ 9.91477849,  6.02620968,  1.67799328],\n",
       "       [ 7.27595536,  2.52419355,  5.37596964],\n",
       "       [ 1.74264457,  5.66330645,  6.65386617],\n",
       "       [ 6.30808252,  5.08266129,  5.80352122],\n",
       "       [ 3.70882651,  2.79637097,  6.12529627],\n",
       "       [ 8.28035171,  8.53024194,  4.60245315],\n",
       "       [ 7.8938113 ,  3.86693548,  7.06887122],\n",
       "       [ 3.01487995,  3.12298387,  6.20575544],\n",
       "       [ 7.05985796,  1.5625    ,  6.04332789],\n",
       "       [ 4.03449442,  2.74193548,  2.23461165],\n",
       "       [ 7.56509976,  8.56653226,  6.40421905],\n",
       "       [ 6.53635441,  9.38306452,  7.57322646],\n",
       "       [ 8.97429828,  6.22580645,  4.30574097],\n",
       "       [ 7.03246534,  9.96370968,  7.64373111],\n",
       "       [ 1.20087927,  6.09879032,  6.52735554],\n",
       "       [ 5.12411228,  4.48387097,  4.38825944],\n",
       "       [ 7.39465675, 10.        ,  6.27051255],\n",
       "       [ 7.39161312,  6.35282258,  3.39508693],\n",
       "       [ 2.60703416,  1.36290323,  4.9057399 ],\n",
       "       [ 8.93168752,  8.74798387,  7.35012505],\n",
       "       [ 8.26208996,  3.8125    ,  5.4548053 ],\n",
       "       [ 4.1044978 ,  6.37096774,  3.24488609],\n",
       "       [ 4.96888739,  8.76612903,  5.59120582],\n",
       "       [ 3.07879608,  2.6875    ,  1.31068398],\n",
       "       [ 1.93743659,  5.46370968,  1.81754208],\n",
       "       [ 5.21846466,  3.63104839,  3.53735548],\n",
       "       [ 8.20426108,  5.98991935,  3.65797788],\n",
       "       [ 7.57727426,  8.96572581,  5.44612325],\n",
       "       [ 7.03855259,  6.55241935,  6.34137921],\n",
       "       [ 4.3205952 ,  3.59475806,  5.81941017],\n",
       "       [ 1.7943862 ,  6.98790323,  4.68876471],\n",
       "       [ 4.91714576,  2.03427419,  5.78757153],\n",
       "       [ 7.473791  ,  5.46370968,  3.95257806],\n",
       "       [ 1.4930673 ,  8.92943548,  9.0381253 ],\n",
       "       [ 1.81569158,  1.29032258,  4.8348726 ],\n",
       "       [ 4.6462631 ,  6.17137097,  4.09609438],\n",
       "       [ 1.14305039,  6.42540323,  3.41126584],\n",
       "       [ 4.50929997,  2.39717742,  5.0723146 ],\n",
       "       [ 3.30402435,  5.84475806,  4.99486616],\n",
       "       [ 8.27730808,  1.74395161,  6.21299755],\n",
       "       [ 3.27054447,  4.68346774,  5.88237057],\n",
       "       [ 3.06053433,  9.07459677,  6.11790807],\n",
       "       [ 7.47683463,  8.80241935,  5.98272326],\n",
       "       [ 6.85897869,  4.33870968,  7.94234384],\n",
       "       [ 3.30098072,  5.98991935,  4.31765743],\n",
       "       [ 4.34798783,  8.36693548,  7.81340259],\n",
       "       [ 3.66621576,  5.62701613,  8.3215993 ],\n",
       "       [ 4.3205952 ,  9.6733871 ,  7.1584659 ],\n",
       "       [ 5.0662834 ,  1.8891129 ,  3.39508693],\n",
       "       [ 1.84917146,  1.27217742,  5.9212487 ],\n",
       "       [ 7.60466689,  7.07862903,  7.58958059],\n",
       "       [ 8.61515049,  7.62298387,  8.26895953],\n",
       "       [ 4.24754819,  3.54032258,  3.64317828],\n",
       "       [ 5.94893473,  6.73387097,  7.24648444],\n",
       "       [ 6.99289821,  1.63508065,  2.7739647 ],\n",
       "       [ 6.6063578 ,  4.81048387,  4.96539836],\n",
       "       [ 9.79607711,  8.67540323,  7.14661261],\n",
       "       [ 5.09367602,  8.56653226,  6.82164925],\n",
       "       [ 7.74771728,  1.78024194,  7.06284037],\n",
       "       [10.        ,  7.58669355,  9.50568317],\n",
       "       [ 9.5069327 ,  2.83266129,  4.9057399 ],\n",
       "       [ 6.69766655,  4.12096774,  4.5362682 ],\n",
       "       [ 8.22861008,  7.22379032,  2.64562067],\n",
       "       [ 5.17585391,  9.41935484,  7.58958059],\n",
       "       [ 1.73960095,  2.99596774,  5.65771241],\n",
       "       [ 3.73013189,  1.05443548,  5.08188298],\n",
       "       [ 1.37740954,  1.07258065,  5.30453449],\n",
       "       [ 8.75211363,  5.88104839,  2.68921261],\n",
       "       [ 7.85120054,  2.48790323,  7.45170964],\n",
       "       [ 8.33513696,  7.89516129,  5.08188298],\n",
       "       [ 6.32634427,  3.79435484,  1.88327455],\n",
       "       [ 7.35813324,  4.73790323,  3.61334613],\n",
       "       [ 3.3588096 ,  9.49193548,  6.03579879],\n",
       "       [ 3.26445722,  7.35080645,  7.23483712],\n",
       "       [ 5.21542103,  3.59475806,  5.30453449],\n",
       "       [ 3.30402435,  1.14516129,  4.1716733 ],\n",
       "       [ 4.80453162,  7.69556452,  8.59146986],\n",
       "       [ 1.56915793,  3.90322581,  4.99486616],\n",
       "       [ 5.27933717,  5.86290323,  6.84063423],\n",
       "       [ 1.55089618,  4.9375    ,  7.09891581],\n",
       "       [ 7.79641529,  1.43548387,  4.26972717],\n",
       "       [ 4.72539736,  7.27822581,  3.85760068],\n",
       "       [ 7.96381468,  6.8608871 ,  8.35958045],\n",
       "       [ 3.63273588,  3.14112903,  5.33147675],\n",
       "       [ 1.2160974 ,  8.05846774,  7.11088291],\n",
       "       [ 3.41968211,  1.        ,  3.37881035],\n",
       "       [ 7.68380115,  9.89112903,  2.12459873],\n",
       "       [ 2.7926953 ,  3.17741935,  6.64070965],\n",
       "       [ 1.        ,  8.18548387,  3.29590654],\n",
       "       [ 9.05038891,  1.52620968,  6.63411751],\n",
       "       [ 1.23435915,  5.93548387,  1.78371804],\n",
       "       [ 7.66858302,  7.07862903,  6.7706517 ],\n",
       "       [ 2.10179236,  8.00403226,  7.93724426],\n",
       "       [ 2.44876564,  9.52822581,  3.26200362],\n",
       "       [ 1.7578627 ,  8.0766129 ,  3.39508693],\n",
       "       [ 9.30909706,  6.24395161,  7.62754411],\n",
       "       [ 2.2874535 ,  5.69959677,  4.81436512],\n",
       "       [ 6.6063578 ,  8.96572581,  1.64119803],\n",
       "       [ 3.21271559,  4.08467742,  3.92574577],\n",
       "       [ 6.87419682,  7.4233871 ,  8.42544928],\n",
       "       [ 7.6898884 ,  7.02419355,  6.28477591],\n",
       "       [ 4.16232668,  2.03427419,  6.02825654],\n",
       "       [ 3.90666216,  3.68548387,  6.35541933],\n",
       "       [ 5.24890091,  1.34475806,  3.34595792],\n",
       "       [ 8.28643896,  2.32459677,  3.29590654],\n",
       "       [ 8.38079134,  9.89112903,  6.71910255],\n",
       "       [ 2.13527224,  8.3125    ,  3.78786049],\n",
       "       [ 2.33919513,  5.68145161,  4.82463357],\n",
       "       [ 9.52215083,  3.52217742,  6.22022783],\n",
       "       [ 4.66148123,  2.52419355,  6.99600982],\n",
       "       [ 6.99289821,  5.22782258,  4.09609438],\n",
       "       [ 6.19242475,  8.20362903,  6.27051255],\n",
       "       [ 6.69462293,  4.82862903,  3.4273486 ],\n",
       "       [ 1.10348326,  3.10483871,  2.7319808 ],\n",
       "       [ 3.83665878,  8.89314516,  7.10490296],\n",
       "       [ 5.53804532,  1.2358871 ,  5.18555458],\n",
       "       [ 1.33479878,  7.69556452,  6.77705624],\n",
       "       [ 4.98714914,  4.33870968,  6.04332789],\n",
       "       [ 6.22894826,  4.28427419,  5.73935195],\n",
       "       [ 3.5870815 ,  7.49596774,  7.03257521],\n",
       "       [ 6.71288468,  4.28427419,  5.30453449],\n",
       "       [ 5.95502198,  7.67741935,  3.0671351 ],\n",
       "       [ 4.54582347,  3.66733871,  2.6675222 ],\n",
       "       [ 8.11599594,  1.61693548,  8.8407811 ],\n",
       "       [ 1.52350355,  7.82258065,  4.92573493],\n",
       "       [ 7.27291173,  1.94354839,  4.69940442],\n",
       "       [ 7.53466351,  5.28225806,  7.51282158],\n",
       "       [ 9.63172134,  2.9233871 ,  2.87572631],\n",
       "       [ 2.50050727,  3.10483871,  4.59151087],\n",
       "       [ 5.98545823,  4.79233871,  6.91583519],\n",
       "       [ 1.57524518,  4.64717742,  4.43450207],\n",
       "       [ 6.10415962,  2.28830645,  3.91223982],\n",
       "       [ 7.74771728,  1.61693548,  3.95257806],\n",
       "       [ 9.40649307,  9.87298387,  6.554277  ],\n",
       "       [ 8.53905986,  6.47983871,  4.79373904],\n",
       "       [ 6.15894488,  2.41532258,  6.08822945],\n",
       "       [ 9.40040582,  1.41733871,  5.12936094],\n",
       "       [ 6.01893811,  2.81451613,  4.50268663],\n",
       "       [ 5.74501184,  1.47177419,  3.2276553 ],\n",
       "       [ 7.62901589,  1.97983871,  5.46346836],\n",
       "       [ 2.68921204,  2.03427419,  5.65771241],\n",
       "       [ 9.73216097,  8.80241935,  8.24487045],\n",
       "       [ 8.70341562,  4.86491935,  5.68237519],\n",
       "       [ 7.21812648,  9.18346774,  4.72058726],\n",
       "       [ 5.22455191,  1.38104839,  5.39362583],\n",
       "       [ 6.79506256,  6.20766129,  4.56952095],\n",
       "       [ 9.68346297,  3.52217742,  2.26117996],\n",
       "       [ 1.54785255,  3.19556452,  5.10094647],\n",
       "       [ 2.18092661,  8.45766129,  2.75306844],\n",
       "       [ 3.27663172,  2.95967742,  2.79467407],\n",
       "       [ 1.50219817,  1.74395161,  5.81147325],\n",
       "       [ 6.05546162,  8.62096774,  2.23461165],\n",
       "       [ 5.53500169,  7.45967742,  2.79467407],\n",
       "       [ 2.14135949,  1.67137097,  4.04467548],\n",
       "       [ 3.84578965,  1.8891129 ,  3.19284597],\n",
       "       [ 6.3659114 ,  2.6875    ,  2.87572631],\n",
       "       [ 9.61041596,  8.62096774,  7.96777089],\n",
       "       [ 8.04294893,  2.56048387,  3.29590654]])"
      ]
     },
     "execution_count": 73,
     "metadata": {},
     "output_type": "execute_result"
    }
   ],
   "source": [
    "x"
   ]
  },
  {
   "cell_type": "code",
   "execution_count": 74,
   "metadata": {},
   "outputs": [
    {
     "name": "stdout",
     "output_type": "stream",
     "text": [
      "Best random state= 151\n"
     ]
    }
   ],
   "source": [
    "#finding best random state\n",
    "max_acc = 0\n",
    "max_rs = 0\n",
    "for i in range(1,200):\n",
    "    x_train, x_test, y_train, y_test = train_test_split(x,y,test_size = .22, random_state = i)\n",
    "    lr = LinearRegression()\n",
    "    lr.fit(x_train, y_train)\n",
    "    pred = lr.predict(x_test)\n",
    "    r2 = r2_score(y_test, pred)\n",
    "    if r2 > max_acc:\n",
    "        max_acc = r2\n",
    "        max_rs = i\n",
    "print(\"Best random state=\",max_rs)"
   ]
  },
  {
   "cell_type": "code",
   "execution_count": 75,
   "metadata": {},
   "outputs": [],
   "source": [
    "x_train, x_test, y_train, y_test = train_test_split(x,y,test_size = .22, random_state = 151)"
   ]
  },
  {
   "cell_type": "code",
   "execution_count": 77,
   "metadata": {},
   "outputs": [
    {
     "data": {
      "text/plain": [
       "146    13.2\n",
       "154    15.6\n",
       "114    14.6\n",
       "158     7.3\n",
       "99     17.2\n",
       "       ... \n",
       "85     15.2\n",
       "71     12.4\n",
       "44      8.5\n",
       "117     9.4\n",
       "152    16.6\n",
       "Name: sales, Length: 156, dtype: float64"
      ]
     },
     "execution_count": 77,
     "metadata": {},
     "output_type": "execute_result"
    }
   ],
   "source": [
    "y_train"
   ]
  },
  {
   "cell_type": "code",
   "execution_count": 87,
   "metadata": {},
   "outputs": [
    {
     "name": "stdout",
     "output_type": "stream",
     "text": [
      "{'SVR': 0.9348969296567898, 'KNN': 0.9399099782026185, 'RandomForest': 0.9756796646396491, 'LinearRegression': 0.9429033773394224, 'Ridge': 0.9429417492788823, 'dtr': 0.9558103211295764}\n"
     ]
    }
   ],
   "source": [
    "models = {\"SVR\":SVR(),\"KNN\":KNeighborsRegressor(), \"RandomForest\":RandomForestRegressor(),\"LinearRegression\":LinearRegression(), \"Ridge\":Ridge(), \"dtr\":DecisionTreeRegressor() }\n",
    "acc = {}\n",
    "mod_list = []\n",
    "for i in models:\n",
    "    mod = i\n",
    "    mod = models[i]\n",
    "    #mod = DecisionTreeRegressor()\n",
    "    mod.fit(x_train, y_train)\n",
    "    pred = mod.predict(x_test)\n",
    "    r2_sc = r2_score(y_test,pred)\n",
    "    acc[i] = r2_sc\n",
    "    mod_list.append(mod)\n",
    "print(acc)"
   ]
  },
  {
   "cell_type": "code",
   "execution_count": 88,
   "metadata": {},
   "outputs": [],
   "source": [
    "#applying cross validation\n",
    "from sklearn.model_selection import cross_val_score"
   ]
  },
  {
   "cell_type": "code",
   "execution_count": 89,
   "metadata": {},
   "outputs": [
    {
     "name": "stdout",
     "output_type": "stream",
     "text": [
      "{'SVR()': 0.9173401990972341, 'KNeighborsRegressor()': 0.9500757058486508, 'RandomForestRegressor()': 0.9762197701363312, 'LinearRegression()': 0.8862315547791276, 'Ridge()': 0.8862348169402822, 'DecisionTreeRegressor()': 0.9473626813407247}\n"
     ]
    }
   ],
   "source": [
    "cv_list = {}\n",
    "for i in mod_list:\n",
    "    cv = cross_val_score(i, x, y, cv=7)\n",
    "    cv_list[str(i)] = cv.mean()\n",
    "print(cv_list)"
   ]
  },
  {
   "cell_type": "markdown",
   "metadata": {},
   "source": [
    "<!DOCTYPE html>\n",
    "<html>\n",
    "<head>\n",
    "<style>\n",
    "table, th, td {\n",
    "  border: 1px solid black;\n",
    "}\n",
    "</style>\n",
    "</head>\n",
    "<body>\n",
    "\n",
    "\n",
    "<table style=\"width:100%\">\n",
    "  <tr>\n",
    "    <th>Algorithm</th>\n",
    "    <th>Accuracy</th> \n",
    "    <th>CV Accuracy</th>\n",
    "     <th>Difference</th>\n",
    "  </tr>\n",
    "  <tr  >\n",
    "    <td>SVR</td>\n",
    "    <td>93.5</td>\n",
    "    <td>91.7</td>\n",
    "      <td> 1.8</td>\n",
    "  </tr>\n",
    "  <tr >\n",
    "    <td>KNN</td>\n",
    "    <td>93.4</td>\n",
    "    <td>95.0</td>\n",
    "      <td>1.6</td>\n",
    "  </tr>\n",
    "    <tr style=\"color:green;\">\n",
    "    <td>RandomForest</td>\n",
    "    <td>97.6</td>\n",
    "    <td>97.6</td>\n",
    "      <td>0.0</td>\n",
    "  </tr>\n",
    "    <tr>\n",
    "    <td>Linear Regression</td>\n",
    "    <td>94.2</td>\n",
    "    <td>88.6</td>\n",
    "      <td>5.8</td>\n",
    "  </tr>\n",
    "    <tr>\n",
    "    <td>Ridge</td>\n",
    "    <td>92.4</td>\n",
    "    <td>88.6</td>\n",
    "      <td>5.8</td>\n",
    "  </tr>\n",
    "    <tr>\n",
    "    <td>DecisonTree</td>\n",
    "    <td>95.5</td>\n",
    "    <td>94.7</td>\n",
    "      <td>0.8</td>\n",
    "  </tr>\n",
    "</table>\n",
    "\n",
    "</body>\n",
    "</html>"
   ]
  },
  {
   "cell_type": "code",
   "execution_count": 90,
   "metadata": {},
   "outputs": [],
   "source": [
    "from sklearn.model_selection import  GridSearchCV\n"
   ]
  },
  {
   "cell_type": "code",
   "execution_count": 111,
   "metadata": {},
   "outputs": [],
   "source": [
    "param_grid = {\"random_state\":np.arange(1,10) , 'bootstrap': [True], 'max_depth': [5, 10, None], 'max_features': ['auto', 'log2'], 'n_estimators': [5, 6, 7, 8, 9, 10, 11, 12, 13, 15]}"
   ]
  },
  {
   "cell_type": "code",
   "execution_count": 112,
   "metadata": {},
   "outputs": [
    {
     "name": "stdout",
     "output_type": "stream",
     "text": [
      "{'bootstrap': True, 'max_depth': 10, 'max_features': 'auto', 'n_estimators': 9, 'random_state': 4}\n"
     ]
    }
   ],
   "source": [
    "rfr = RandomForestRegressor()\n",
    "\n",
    "g_search = GridSearchCV(estimator = rfr, param_grid = param_grid, \n",
    "\n",
    "                          cv = 3, n_jobs = 1, verbose = 0, return_train_score=True)\n",
    "g_search.fit(x_train, y_train);\n",
    "\n",
    "print(g_search.best_params_)"
   ]
  },
  {
   "cell_type": "code",
   "execution_count": 113,
   "metadata": {},
   "outputs": [],
   "source": [
    "gc_pred = g_search.best_estimator_.predict(x_test)"
   ]
  },
  {
   "cell_type": "code",
   "execution_count": 114,
   "metadata": {},
   "outputs": [
    {
     "data": {
      "text/plain": [
       "0.9656519080860033"
      ]
     },
     "execution_count": 114,
     "metadata": {},
     "output_type": "execute_result"
    }
   ],
   "source": [
    "r2_score(y_test, gc_pred)"
   ]
  },
  {
   "cell_type": "code",
   "execution_count": 105,
   "metadata": {},
   "outputs": [],
   "source": [
    "import joblib"
   ]
  },
  {
   "cell_type": "code",
   "execution_count": 107,
   "metadata": {},
   "outputs": [
    {
     "data": {
      "text/plain": [
       "['SalesModel.obj']"
      ]
     },
     "execution_count": 107,
     "metadata": {},
     "output_type": "execute_result"
    }
   ],
   "source": [
    "joblib.dump(g_search.best_estimator_, \"SalesModel.obj\")"
   ]
  },
  {
   "cell_type": "code",
   "execution_count": null,
   "metadata": {},
   "outputs": [],
   "source": []
  }
 ],
 "metadata": {
  "kernelspec": {
   "display_name": "Python 3",
   "language": "python",
   "name": "python3"
  },
  "language_info": {
   "codemirror_mode": {
    "name": "ipython",
    "version": 3
   },
   "file_extension": ".py",
   "mimetype": "text/x-python",
   "name": "python",
   "nbconvert_exporter": "python",
   "pygments_lexer": "ipython3",
   "version": "3.8.3"
  }
 },
 "nbformat": 4,
 "nbformat_minor": 4
}
